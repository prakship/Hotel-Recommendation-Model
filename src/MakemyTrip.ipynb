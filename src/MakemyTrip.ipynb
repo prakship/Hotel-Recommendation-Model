{
 "cells": [
  {
   "cell_type": "markdown",
   "metadata": {
    "toc": true
   },
   "source": [
    "<h1>Table of Contents<span class=\"tocSkip\"></span></h1>\n",
    "<div class=\"toc\"><ul class=\"toc-item\"><li><span><a href=\"#Importing-Libraries\" data-toc-modified-id=\"Importing-Libraries-1\"><span class=\"toc-item-num\">1&nbsp;&nbsp;</span>Importing Libraries</a></span></li><li><span><a href=\"#Reading-Data\" data-toc-modified-id=\"Reading-Data-2\"><span class=\"toc-item-num\">2&nbsp;&nbsp;</span>Reading Data</a></span></li><li><span><a href=\"#Exploratory-Data-Analysis\" data-toc-modified-id=\"Exploratory-Data-Analysis-3\"><span class=\"toc-item-num\">3&nbsp;&nbsp;</span>Exploratory Data Analysis</a></span><ul class=\"toc-item\"><li><span><a href=\"#Exploring-dataset\" data-toc-modified-id=\"Exploring-dataset-3.1\"><span class=\"toc-item-num\">3.1&nbsp;&nbsp;</span>Exploring dataset</a></span></li><li><span><a href=\"#Observations-made\" data-toc-modified-id=\"Observations-made-3.2\"><span class=\"toc-item-num\">3.2&nbsp;&nbsp;</span>Observations made</a></span></li><li><span><a href=\"#Data-visualization-of-Top-10-cities\" data-toc-modified-id=\"Data-visualization-of-Top-10-cities-3.3\"><span class=\"toc-item-num\">3.3&nbsp;&nbsp;</span>Data visualization of Top 10 cities</a></span><ul class=\"toc-item\"><li><span><a href=\"#Top-10-cities-Rating-distribution\" data-toc-modified-id=\"Top-10-cities-Rating-distribution-3.3.1\"><span class=\"toc-item-num\">3.3.1&nbsp;&nbsp;</span>Top 10 cities Rating distribution</a></span></li><li><span><a href=\"#Cities-with-maximum-review-count-in-top-10\" data-toc-modified-id=\"Cities-with-maximum-review-count-in-top-10-3.3.2\"><span class=\"toc-item-num\">3.3.2&nbsp;&nbsp;</span>Cities with maximum review count in top 10</a></span></li><li><span><a href=\"#Hotel-star-rating-Count\" data-toc-modified-id=\"Hotel-star-rating-Count-3.3.3\"><span class=\"toc-item-num\">3.3.3&nbsp;&nbsp;</span>Hotel-star rating Count</a></span></li></ul></li><li><span><a href=\"#Data-pre-processing\" data-toc-modified-id=\"Data-pre-processing-3.4\"><span class=\"toc-item-num\">3.4&nbsp;&nbsp;</span>Data pre-processing</a></span></li><li><span><a href=\"#Baseline-model-data-prep\" data-toc-modified-id=\"Baseline-model-data-prep-3.5\"><span class=\"toc-item-num\">3.5&nbsp;&nbsp;</span>Baseline model data prep</a></span></li></ul></li><li><span><a href=\"#Predictive-modeling\" data-toc-modified-id=\"Predictive-modeling-4\"><span class=\"toc-item-num\">4&nbsp;&nbsp;</span>Predictive modeling</a></span><ul class=\"toc-item\"><li><span><a href=\"#Logistic-Regression---Baseline-model\" data-toc-modified-id=\"Logistic-Regression---Baseline-model-4.1\"><span class=\"toc-item-num\">4.1&nbsp;&nbsp;</span>Logistic Regression - Baseline model</a></span><ul class=\"toc-item\"><li><span><a href=\"#Splitting-dataset-Train-and-Test\" data-toc-modified-id=\"Splitting-dataset-Train-and-Test-4.1.1\"><span class=\"toc-item-num\">4.1.1&nbsp;&nbsp;</span>Splitting dataset-Train and Test</a></span></li><li><span><a href=\"#Correlation-matrix\" data-toc-modified-id=\"Correlation-matrix-4.1.2\"><span class=\"toc-item-num\">4.1.2&nbsp;&nbsp;</span>Correlation matrix</a></span></li><li><span><a href=\"#Logistic-regression\" data-toc-modified-id=\"Logistic-regression-4.1.3\"><span class=\"toc-item-num\">4.1.3&nbsp;&nbsp;</span>Logistic regression</a></span></li></ul></li><li><span><a href=\"#Random-forest\" data-toc-modified-id=\"Random-forest-4.2\"><span class=\"toc-item-num\">4.2&nbsp;&nbsp;</span>Random forest</a></span></li><li><span><a href=\"#Gradient-Boosting\" data-toc-modified-id=\"Gradient-Boosting-4.3\"><span class=\"toc-item-num\">4.3&nbsp;&nbsp;</span>Gradient Boosting</a></span></li><li><span><a href=\"#Support-Vector-Machine\" data-toc-modified-id=\"Support-Vector-Machine-4.4\"><span class=\"toc-item-num\">4.4&nbsp;&nbsp;</span>Support Vector Machine</a></span></li></ul></li><li><span><a href=\"#Conclusion\" data-toc-modified-id=\"Conclusion-5\"><span class=\"toc-item-num\">5&nbsp;&nbsp;</span>Conclusion</a></span><ul class=\"toc-item\"><li><span><a href=\"#Models-implemented-and-their-accuracies\" data-toc-modified-id=\"Models-implemented-and-their-accuracies-5.1\"><span class=\"toc-item-num\">5.1&nbsp;&nbsp;</span>Models implemented and their accuracies</a></span><ul class=\"toc-item\"><li><span><a href=\"#Logistic-model(Baseline-model)\" data-toc-modified-id=\"Logistic-model(Baseline-model)-5.1.1\"><span class=\"toc-item-num\">5.1.1&nbsp;&nbsp;</span>Logistic model(Baseline model)</a></span></li><li><span><a href=\"#Random-forest-classifier---Accurcy-high\" data-toc-modified-id=\"Random-forest-classifier---Accurcy-high-5.1.2\"><span class=\"toc-item-num\">5.1.2&nbsp;&nbsp;</span>Random forest classifier - Accurcy high</a></span></li><li><span><a href=\"#Gradient-Boosting---Accuracy-is-highest\" data-toc-modified-id=\"Gradient-Boosting---Accuracy-is-highest-5.1.3\"><span class=\"toc-item-num\">5.1.3&nbsp;&nbsp;</span>Gradient Boosting - Accuracy is highest</a></span></li><li><span><a href=\"#Support-vector-machine---Accuracy-is-low\" data-toc-modified-id=\"Support-vector-machine---Accuracy-is-low-5.1.4\"><span class=\"toc-item-num\">5.1.4&nbsp;&nbsp;</span>Support vector machine - Accuracy is low</a></span></li></ul></li></ul></li></ul></div>"
   ]
  },
  {
   "cell_type": "markdown",
   "metadata": {},
   "source": [
    "## Importing Libraries"
   ]
  },
  {
   "cell_type": "code",
   "execution_count": 2,
   "metadata": {},
   "outputs": [],
   "source": [
    "import numpy as np\n",
    "import pandas as pd\n",
    "\n",
    "import os\n",
    "\n",
    "import matplotlib.pyplot as plt\n",
    "import seaborn as sns\n",
    "%matplotlib inline"
   ]
  },
  {
   "cell_type": "markdown",
   "metadata": {},
   "source": [
    "## Reading Data"
   ]
  },
  {
   "cell_type": "code",
   "execution_count": 3,
   "metadata": {},
   "outputs": [],
   "source": [
    "df = pd.read_csv('makemytrip_com-travel_sample.csv')\n"
   ]
  },
  {
   "cell_type": "markdown",
   "metadata": {},
   "source": [
    "## Exploratory Data Analysis"
   ]
  },
  {
   "cell_type": "markdown",
   "metadata": {},
   "source": [
    "### Exploring dataset"
   ]
  },
  {
   "cell_type": "code",
   "execution_count": 244,
   "metadata": {},
   "outputs": [
    {
     "data": {
      "text/plain": [
       "(19979, 33)"
      ]
     },
     "execution_count": 244,
     "metadata": {},
     "output_type": "execute_result"
    }
   ],
   "source": [
    "#df.head(15)\n",
    "df.shape"
   ]
  },
  {
   "cell_type": "code",
   "execution_count": 35,
   "metadata": {
    "collapsed": true
   },
   "outputs": [
    {
     "data": {
      "text/plain": [
       "Index(['area', 'city', 'country', 'crawl_date', 'highlight_value',\n",
       "       'hotel_overview', 'hotel_star_rating', 'image_urls', 'in_your_room',\n",
       "       'is_value_plus', 'latitude', 'longitude', 'mmt_holidayiq_review_count',\n",
       "       'mmt_location_rating', 'mmt_review_count', 'mmt_review_rating',\n",
       "       'mmt_review_score', 'mmt_traveller_type_review_count',\n",
       "       'mmt_tripadvisor_count', 'pageurl', 'property_address', 'property_id',\n",
       "       'property_name', 'property_type', 'qts', 'query_time_stamp',\n",
       "       'room_types', 'site_review_count', 'site_review_rating', 'sitename',\n",
       "       'state', 'traveller_rating', 'uniq_id'],\n",
       "      dtype='object')"
      ]
     },
     "execution_count": 35,
     "metadata": {},
     "output_type": "execute_result"
    }
   ],
   "source": [
    "df.columns"
   ]
  },
  {
   "cell_type": "code",
   "execution_count": 290,
   "metadata": {},
   "outputs": [
    {
     "data": {
      "text/plain": [
       "area                                5287\n",
       "city                                   0\n",
       "country                              404\n",
       "crawl_date                          9274\n",
       "highlight_value                     2391\n",
       "hotel_overview                      3284\n",
       "hotel_star_rating                      0\n",
       "image_urls                         11483\n",
       "in_your_room                        5285\n",
       "is_value_plus                          0\n",
       "latitude                              19\n",
       "longitude                             19\n",
       "mmt_holidayiq_review_count         10672\n",
       "mmt_location_rating                 8459\n",
       "mmt_review_count                   10635\n",
       "mmt_review_rating                   8459\n",
       "mmt_review_score                   10233\n",
       "mmt_traveller_type_review_count     2044\n",
       "mmt_tripadvisor_count               8844\n",
       "pageurl                                0\n",
       "property_address                       3\n",
       "property_id                            0\n",
       "property_name                          0\n",
       "property_type                        109\n",
       "qts                                14398\n",
       "query_time_stamp                       0\n",
       "room_types                          4900\n",
       "site_review_count                  19273\n",
       "site_review_rating                 19558\n",
       "sitename                               0\n",
       "state                              15082\n",
       "traveller_rating                   13231\n",
       "uniq_id                                0\n",
       "dtype: int64"
      ]
     },
     "execution_count": 290,
     "metadata": {},
     "output_type": "execute_result"
    }
   ],
   "source": [
    "df.isnull().sum()"
   ]
  },
  {
   "cell_type": "markdown",
   "metadata": {},
   "source": [
    "### Observations made "
   ]
  },
  {
   "cell_type": "code",
   "execution_count": 28,
   "metadata": {},
   "outputs": [],
   "source": [
    "# Choose the hotels with reviews more than some threshold, maybe 50 in count : This helps us gain more confidence while recommending\n",
    "# Recommend all hotels above some threshold, item vector and the profile vector.\n",
    "# Use few of the records for prediction in the recommender system, more number will be computationally expensive\n",
    "\n",
    "########## Columns that can be discarded ############### my observations #########\n",
    "# 1. sitename - All values are 'makemytrip' \n",
    "# 2. country - All values are 'India'\n",
    "# 3. state - Around 75% data missing, also we have cities which represents similar data \n",
    "# 4. site_review_count - 90% data missing\n",
    "# 5. site_review_rating - 90% data missing\n",
    "# 6. imageurl - No value in the recommendation system\n",
    "# 7. pageurl - Redundant information\n",
    "# 8. property_id - \n",
    "# 9. property_address - same as area data\n",
    "# 10. site_review_count - Around 99% missing data\n",
    "# 11. site_review_rating - Around 99% missing data\n",
    "\n",
    "### uniq_id - Irrelevant info######################################################\n",
    "\n",
    "###### Dealing with Non-uniform Data ##########\n",
    "# 1. hotel_star_rating - We need to convert all sorts of rating format to numbers - 0,1,2,3,4,5\n",
    "# 2. city - Combining cities with same name but with spacings- example : 'New Delhi And NCR' by 'NewDelhiAndNCR'\n",
    "\n"
   ]
  },
  {
   "cell_type": "markdown",
   "metadata": {},
   "source": [
    "### Data visualization of Top 10 cities"
   ]
  },
  {
   "cell_type": "code",
   "execution_count": 7,
   "metadata": {},
   "outputs": [],
   "source": [
    "# Picking top 10 cities for Data visualization\n",
    "\n",
    "#NewDelhiAndNCR, Goa, Mumbai, Jaipur, Bangalore, Hyderabad, Srinagar, Pune, Kolkata, Coorg\n",
    "\n",
    "cities = ['NewDelhiAndNCR','Goa','Mumbai','Jaipur','Bangalore','Hyderabad','Srinagar', 'Pune', 'Kolkata', 'Coorg']\n"
   ]
  },
  {
   "cell_type": "code",
   "execution_count": 8,
   "metadata": {},
   "outputs": [],
   "source": [
    "############ Dealing with - hotel_star_rating ##############"
   ]
  },
  {
   "cell_type": "code",
   "execution_count": 9,
   "metadata": {},
   "outputs": [],
   "source": [
    "# Converting star rating to numbers\n",
    "\n",
    "df1['hotel_star_rating'] = df1['hotel_star_rating'].replace('1 star',1).astype(str)\n",
    "df1['hotel_star_rating'] = df1['hotel_star_rating'].replace('2 star',2).astype(str)\n",
    "df1['hotel_star_rating'] = df1['hotel_star_rating'].replace('3 star',3).astype(str)\n",
    "df1['hotel_star_rating'] = df1['hotel_star_rating'].replace('4 star',4).astype(str)\n",
    "df1['hotel_star_rating'] = df1['hotel_star_rating'].replace('5 star',5).astype(str)\n",
    "df1['hotel_star_rating'] = df1['hotel_star_rating'].replace('Four star',4).astype(str)\n",
    "df1['hotel_star_rating'] = df1['hotel_star_rating'].replace('Three on 5',3).astype(str)\n",
    "df1['hotel_star_rating'] = df1['hotel_star_rating'].replace('Four on 5',4).astype(str)\n",
    "df1['hotel_star_rating'] = df1['hotel_star_rating'].replace('Five on 5',5).astype(str)\n",
    "\n",
    "cities_df = df1.loc[df1['city'].isin(cities)]"
   ]
  },
  {
   "cell_type": "markdown",
   "metadata": {},
   "source": [
    "#### Top 10 cities Rating distribution"
   ]
  },
  {
   "cell_type": "code",
   "execution_count": 10,
   "metadata": {},
   "outputs": [
    {
     "data": {
      "text/plain": [
       "' As we can see the Delhi has most of the hotel ratings as 3 \\n    and Goa has most hotel ratings as 1.'"
      ]
     },
     "execution_count": 10,
     "metadata": {},
     "output_type": "execute_result"
    },
    {
     "data": {
      "image/png": "[encoded data removed]",
      "text/plain": [
       "<Figure size 1080x360 with 1 Axes>"
      ]
     },
     "metadata": {
      "needs_background": "light"
     },
     "output_type": "display_data"
    }
   ],
   "source": [
    "# Data visualization\n",
    "\n",
    "s = pd.crosstab(index = cities_df['city'], columns = cities_df['hotel_star_rating'])\n",
    "bar = s.plot(kind='bar',figsize=(15,5),title='Count of Ratings based on Cities',fontsize=15)\n",
    "bar\n",
    "\n",
    "# Observation\n",
    "''' As we can see the Delhi has most of the hotel ratings as 3 \n",
    "    and Goa has most hotel ratings as 1.'''\n"
   ]
  },
  {
   "cell_type": "markdown",
   "metadata": {},
   "source": [
    "#### Cities with maximum review count in top 10"
   ]
  },
  {
   "cell_type": "code",
   "execution_count": 11,
   "metadata": {},
   "outputs": [
    {
     "data": {
      "text/plain": [
       "<matplotlib.axes._subplots.AxesSubplot at 0x19788de2908>"
      ]
     },
     "execution_count": 11,
     "metadata": {},
     "output_type": "execute_result"
    },
    {
     "data": {
      "image/png": "[encoded data removed]",
      "text/plain": [
       "<Figure size 432x288 with 1 Axes>"
      ]
     },
     "metadata": {
      "needs_background": "light"
     },
     "output_type": "display_data"
    }
   ],
   "source": [
    "#Cities having maximum Reviews can be visualized below\n",
    "# New Delhi followed by Goa has the maximum number of reviews in the dataset\n",
    "\n",
    "mmt_df = cities_df['city'].groupby(cities_df.mmt_review_count)\n",
    "kk = pd.crosstab(index = cities_df['city'], columns = cities_df['mmt_review_count'].sum())\n",
    "kk.plot(kind='barh',title='Cities having Maximum Reviews', fontsize=14, color = 'green')\n",
    "\n",
    "'''\n",
    "Here , we can see that New Delhi has the highest number of reviews on the website makemytrip \n",
    "followed by Goa.\n",
    "'''"
   ]
  },
  {
   "cell_type": "markdown",
   "metadata": {},
   "source": [
    "#### Hotel-star rating Count"
   ]
  },
  {
   "cell_type": "code",
   "execution_count": 13,
   "metadata": {},
   "outputs": [
    {
     "data": {
      "text/plain": [
       "1    11284\n",
       "3     4258\n",
       "2     2829\n",
       "4     1093\n",
       "5      491\n",
       "0       45\n",
       "Name: hotel_star_rating, dtype: int64"
      ]
     },
     "execution_count": 13,
     "metadata": {},
     "output_type": "execute_result"
    }
   ],
   "source": [
    "\n",
    "'''We can see that overall more than 50% of the rating is for 1-star and only around 2.5% ratings \n",
    "   are complete 5. People aren't that generous in giving good ratings to hotels.'''\n",
    "\n",
    "df1['hotel_star_rating'].value_counts()"
   ]
  },
  {
   "cell_type": "markdown",
   "metadata": {},
   "source": [
    "### Data pre-processing"
   ]
  },
  {
   "cell_type": "code",
   "execution_count": 5,
   "metadata": {},
   "outputs": [
    {
     "data": {
      "text/plain": [
       "Index(['area', 'city', 'crawl_date', 'highlight_value', 'hotel_overview',\n",
       "       'hotel_star_rating', 'image_urls', 'in_your_room', 'is_value_plus',\n",
       "       'latitude', 'longitude', 'mmt_holidayiq_review_count',\n",
       "       'mmt_location_rating', 'mmt_review_count', 'mmt_review_rating',\n",
       "       'mmt_review_score', 'mmt_traveller_type_review_count',\n",
       "       'mmt_tripadvisor_count', 'pageurl', 'property_address', 'property_id',\n",
       "       'property_name', 'property_type', 'qts', 'query_time_stamp',\n",
       "       'room_types', 'site_review_count', 'site_review_rating', 'state',\n",
       "       'traveller_rating', 'uniq_id'],\n",
       "      dtype='object')"
      ]
     },
     "execution_count": 5,
     "metadata": {},
     "output_type": "execute_result"
    }
   ],
   "source": [
    "# dropping - sitename, country, hotel_overview, image_urls, crawl_date, pageurl, property_name, property_id\n",
    "# also dropping - property_address, site_review_count, site_review_rating, uniq_id, state, qts, query_time_stamp  \n",
    "\n",
    "df1 = df.copy()\n",
    "\n",
    "df1 = df1.drop(['sitename', 'country' ], axis=1)\n",
    "df1.columns\n"
   ]
  },
  {
   "cell_type": "code",
   "execution_count": 31,
   "metadata": {},
   "outputs": [
    {
     "data": {
      "text/plain": [
       "Index(['area', 'city', 'highlight_value', 'hotel_star_rating', 'in_your_room',\n",
       "       'is_value_plus', 'latitude', 'longitude', 'mmt_holidayiq_review_count',\n",
       "       'mmt_location_rating', 'mmt_review_count', 'mmt_review_rating',\n",
       "       'mmt_review_score', 'mmt_traveller_type_review_count',\n",
       "       'mmt_tripadvisor_count', 'property_name', 'property_type', 'room_types',\n",
       "       'traveller_rating', 'Bathroom_Toiletries', 'Attached_Bathroom',\n",
       "       'Hot/Cold_water', 'Telephone', 'Room_service', 'Television', 'Extra'],\n",
       "      dtype='object')"
      ]
     },
     "execution_count": 31,
     "metadata": {},
     "output_type": "execute_result"
    }
   ],
   "source": [
    "# dropping rest of the columns\n",
    "\n",
    "df1 = df1.drop([ 'property_address', 'site_review_count', 'site_review_rating', 'uniq_id', 'state', 'qts', 'query_time_stamp','hotel_overview', 'image_urls', 'crawl_date', 'pageurl', 'property_id'], axis=1)\n",
    "df1.columns\n",
    "\n",
    "# down to 19 columns"
   ]
  },
  {
   "cell_type": "code",
   "execution_count": 282,
   "metadata": {},
   "outputs": [],
   "source": [
    "############ Dealing with - city ##############"
   ]
  },
  {
   "cell_type": "code",
   "execution_count": 14,
   "metadata": {},
   "outputs": [
    {
     "data": {
      "text/plain": [
       "NewDelhiAndNCR       1163\n",
       "Goa                  1122\n",
       "Mumbai                543\n",
       "Jaipur                534\n",
       "Bangalore             512\n",
       "Hyderabad             468\n",
       "Srinagar              453\n",
       "New Delhi And NCR     425\n",
       "Pune                  392\n",
       "Kolkata               369\n",
       "Name: city, dtype: int64"
      ]
     },
     "execution_count": 14,
     "metadata": {},
     "output_type": "execute_result"
    }
   ],
   "source": [
    "df1['city'].value_counts()[:10]\n",
    "\n",
    "# Replacing city name 'New Delhi And NCR' by 'NewDelhiAndNCR':\n",
    "\n",
    "#df1['city'] = df1['city'].replace('New Delhi And NCR', 'NewDelhiAndNCR').astype(str)\n",
    "\n",
    "#### It is clear that we have maximum reviews for hotels in NewDelhi and NCR #### "
   ]
  },
  {
   "cell_type": "code",
   "execution_count": 286,
   "metadata": {},
   "outputs": [
    {
     "data": {
      "text/plain": [
       "0"
      ]
     },
     "execution_count": 286,
     "metadata": {},
     "output_type": "execute_result"
    }
   ],
   "source": [
    "df1['city'].isna().sum()\n",
    "#missing values are zero"
   ]
  },
  {
   "cell_type": "code",
   "execution_count": 283,
   "metadata": {},
   "outputs": [],
   "source": [
    "############ Dealing with - area ##############"
   ]
  },
  {
   "cell_type": "code",
   "execution_count": 672,
   "metadata": {},
   "outputs": [
    {
     "data": {
      "text/plain": [
       "Gurgaon       144\n",
       "Karol Bagh     91\n",
       "Name: area, dtype: int64"
      ]
     },
     "execution_count": 672,
     "metadata": {},
     "output_type": "execute_result"
    }
   ],
   "source": [
    "df1.area.value_counts()[:2]"
   ]
  },
  {
   "cell_type": "code",
   "execution_count": 22,
   "metadata": {},
   "outputs": [
    {
     "data": {
      "text/plain": [
       "0"
      ]
     },
     "execution_count": 22,
     "metadata": {},
     "output_type": "execute_result"
    }
   ],
   "source": [
    "df1['area'].isna().sum()"
   ]
  },
  {
   "cell_type": "code",
   "execution_count": 21,
   "metadata": {},
   "outputs": [
    {
     "name": "stderr",
     "output_type": "stream",
     "text": [
      "C:\\Anaconda\\lib\\site-packages\\ipykernel_launcher.py:3: SettingWithCopyWarning: \n",
      "A value is trying to be set on a copy of a slice from a DataFrame\n",
      "\n",
      "See the caveats in the documentation: http://pandas.pydata.org/pandas-docs/stable/user_guide/indexing.html#returning-a-view-versus-a-copy\n",
      "  This is separate from the ipykernel package so we can avoid doing imports until\n"
     ]
    }
   ],
   "source": [
    "#Replacing missing areas with the corresponding city names\n",
    "\n",
    "for i in range(len(df1)):\n",
    "    if type(df1.area[i]) != str:\n",
    "        df1.area[i] = df.city[i]"
   ]
  },
  {
   "cell_type": "code",
   "execution_count": 284,
   "metadata": {},
   "outputs": [],
   "source": [
    "############ Dealing with - in_your_room ##############"
   ]
  },
  {
   "cell_type": "code",
   "execution_count": 25,
   "metadata": {},
   "outputs": [],
   "source": [
    "df1['in_your_room'] = df1['in_your_room'].replace('{{value}}','value').astype(str)\n"
   ]
  },
  {
   "cell_type": "code",
   "execution_count": 26,
   "metadata": {},
   "outputs": [],
   "source": [
    "# to replace - '||||||', '||||', '||||||||', '||||||||||||', '|||||', '|||||||', '||', '|', '|||'\n",
    "\n",
    "df1['in_your_room'] = df1['in_your_room'].replace('|','None').astype(str)\n",
    "df1['in_your_room'] = df1['in_your_room'].replace('||','None').astype(str)\n",
    "df1['in_your_room'] = df1['in_your_room'].replace('|||','None').astype(str)\n",
    "df1['in_your_room'] = df1['in_your_room'].replace('||||','None').astype(str)\n",
    "df1['in_your_room'] = df1['in_your_room'].replace('|||||','None').astype(str)\n",
    "df1['in_your_room'] = df1['in_your_room'].replace('||||||','None').astype(str)\n",
    "df1['in_your_room'] = df1['in_your_room'].replace('|||||||','None').astype(str)\n",
    "df1['in_your_room'] = df1['in_your_room'].replace('||||||||','None').astype(str)\n",
    "df1['in_your_room'] = df1['in_your_room'].replace('||||||||||||','None').astype(str)\n"
   ]
  },
  {
   "cell_type": "code",
   "execution_count": 27,
   "metadata": {
    "collapsed": true
   },
   "outputs": [
    {
     "data": {
      "text/plain": [
       "None                                                                                   5802\n",
       "value                                                                                  4845\n",
       "Bathroom Toiletries | Attached Bathroom | Hot & Cold water                              200\n",
       "Bathroom Toiletries|Attached Bathroom|Hot & Cold water                                  170\n",
       "Bathroom Toiletries | Hot/cold Water | Attached Bathroom                                149\n",
       "Hot/cold Water | Attached Bathroom                                                      148\n",
       "Telephone | Bathroom Toiletries | Television | Hot/cold Water | Attached Bathroom       138\n",
       "Telephone | Room Service | Television | Hot/cold Water | Attached Bathroom              102\n",
       "Telephone | Bathroom Toiletries | Television | Attached Bathroom | Hot & Cold water      63\n",
       "Telephone|Bathroom Toiletries|Television|Hot/cold Water|Attached Bathroom                61\n",
       "Telephone|Room Service|Television|Hot/cold Water|Attached Bathroom                       44\n",
       "Attached Bathroom | Hot & Cold water                                                     40\n",
       "Bathroom Toiletries | Television | Attached Bathroom                                     37\n",
       "Attached Bathroom                                                                        35\n",
       "Telephone | Bathroom Toiletries | Attached Bathroom | Hot & Cold water                   34\n",
       "Telephone | Bathroom Toiletries | Television | Attached Bathroom                         34\n",
       "Telephone|Bathroom Toiletries|Television|Attached Bathroom|Hot & Cold water              34\n",
       "Hot/cold Water|Attached Bathroom                                                         33\n",
       "Telephone | Bathroom Toiletries | Television | Hot/cold Water                            31\n",
       "Bathroom Toiletries | Television | Attached Bathroom | Hot & Cold water                  30\n",
       "Name: in_your_room, dtype: int64"
      ]
     },
     "execution_count": 27,
     "metadata": {},
     "output_type": "execute_result"
    }
   ],
   "source": [
    "df1['in_your_room'] = df1['in_your_room'].replace('nan','None').astype(str)\n",
    "df1.in_your_room.value_counts()[:20]\n"
   ]
  },
  {
   "cell_type": "code",
   "execution_count": 28,
   "metadata": {
    "collapsed": true
   },
   "outputs": [
    {
     "name": "stderr",
     "output_type": "stream",
     "text": [
      "C:\\Anaconda\\lib\\site-packages\\ipykernel_launcher.py:29: SettingWithCopyWarning: \n",
      "A value is trying to be set on a copy of a slice from a DataFrame\n",
      "\n",
      "See the caveats in the documentation: http://pandas.pydata.org/pandas-docs/stable/user_guide/indexing.html#returning-a-view-versus-a-copy\n",
      "C:\\Anaconda\\lib\\site-packages\\ipykernel_launcher.py:17: SettingWithCopyWarning: \n",
      "A value is trying to be set on a copy of a slice from a DataFrame\n",
      "\n",
      "See the caveats in the documentation: http://pandas.pydata.org/pandas-docs/stable/user_guide/indexing.html#returning-a-view-versus-a-copy\n",
      "C:\\Anaconda\\lib\\site-packages\\ipykernel_launcher.py:25: SettingWithCopyWarning: \n",
      "A value is trying to be set on a copy of a slice from a DataFrame\n",
      "\n",
      "See the caveats in the documentation: http://pandas.pydata.org/pandas-docs/stable/user_guide/indexing.html#returning-a-view-versus-a-copy\n",
      "C:\\Anaconda\\lib\\site-packages\\ipykernel_launcher.py:21: SettingWithCopyWarning: \n",
      "A value is trying to be set on a copy of a slice from a DataFrame\n",
      "\n",
      "See the caveats in the documentation: http://pandas.pydata.org/pandas-docs/stable/user_guide/indexing.html#returning-a-view-versus-a-copy\n",
      "C:\\Anaconda\\lib\\site-packages\\ipykernel_launcher.py:23: SettingWithCopyWarning: \n",
      "A value is trying to be set on a copy of a slice from a DataFrame\n",
      "\n",
      "See the caveats in the documentation: http://pandas.pydata.org/pandas-docs/stable/user_guide/indexing.html#returning-a-view-versus-a-copy\n",
      "C:\\Anaconda\\lib\\site-packages\\ipykernel_launcher.py:27: SettingWithCopyWarning: \n",
      "A value is trying to be set on a copy of a slice from a DataFrame\n",
      "\n",
      "See the caveats in the documentation: http://pandas.pydata.org/pandas-docs/stable/user_guide/indexing.html#returning-a-view-versus-a-copy\n",
      "C:\\Anaconda\\lib\\site-packages\\ipykernel_launcher.py:19: SettingWithCopyWarning: \n",
      "A value is trying to be set on a copy of a slice from a DataFrame\n",
      "\n",
      "See the caveats in the documentation: http://pandas.pydata.org/pandas-docs/stable/user_guide/indexing.html#returning-a-view-versus-a-copy\n"
     ]
    },
    {
     "name": "stdout",
     "output_type": "stream",
     "text": [
      "0        0\n",
      "1        0\n",
      "2        0\n",
      "3        0\n",
      "4        0\n",
      "        ..\n",
      "19995    1\n",
      "19996    0\n",
      "19997    1\n",
      "19998    0\n",
      "19999    0\n",
      "Name: Bathroom_Toiletries, Length: 20000, dtype: int64\n"
     ]
    }
   ],
   "source": [
    "temp2 = df1['in_your_room']\n",
    "\n",
    "df1['Bathroom_Toiletries'] = [0]*len(temp2)\n",
    "df1['Attached_Bathroom'] = [0]*len(temp2)\n",
    "df1['Hot/Cold_water'] = [0]*len(temp2)\n",
    "df1['Telephone'] = [0]*len(temp2)\n",
    "df1['Room_service'] = [0]*len(temp2)\n",
    "df1['Television'] = [0]*len(temp2)\n",
    "df1['Extra'] = [0]*len(temp2)\n",
    "\n",
    "for i in range(len(temp2)):\n",
    "    t1 = temp2[i].split('|')\n",
    "    t1 = [a.strip() for a in t1]\n",
    "    t1 = [a for a in t1 if a]\n",
    "    for b in t1:\n",
    "        if b == 'Bathroom Toiletries':\n",
    "            df1['Bathroom_Toiletries'][i] = 1\n",
    "        elif b == 'Attached Bathroom':\n",
    "            df1['Attached_Bathroom'][i] = 1\n",
    "        elif b == 'Hot/cold Water' or b == 'Hot & Cold water':\n",
    "            df1['Hot/Cold_water'][i] = 1\n",
    "        elif b == 'Telephone':\n",
    "            df1['Telephone'][i] = 1\n",
    "        elif b == 'Room Service':\n",
    "            df1['Room_service'][i] = 1\n",
    "        elif b == 'Television':\n",
    "            df1['Television'][i] = 1\n",
    "        else:\n",
    "            df1['Extra'][i] = 1\n",
    "    \n",
    "print(df1['Bathroom_Toiletries'])"
   ]
  },
  {
   "cell_type": "code",
   "execution_count": 29,
   "metadata": {},
   "outputs": [
    {
     "data": {
      "text/plain": [
       "Index(['area', 'city', 'crawl_date', 'highlight_value', 'hotel_overview',\n",
       "       'hotel_star_rating', 'image_urls', 'in_your_room', 'is_value_plus',\n",
       "       'latitude', 'longitude', 'mmt_holidayiq_review_count',\n",
       "       'mmt_location_rating', 'mmt_review_count', 'mmt_review_rating',\n",
       "       'mmt_review_score', 'mmt_traveller_type_review_count',\n",
       "       'mmt_tripadvisor_count', 'pageurl', 'property_address', 'property_id',\n",
       "       'property_name', 'property_type', 'qts', 'query_time_stamp',\n",
       "       'room_types', 'site_review_count', 'site_review_rating', 'state',\n",
       "       'traveller_rating', 'uniq_id', 'Bathroom_Toiletries',\n",
       "       'Attached_Bathroom', 'Hot/Cold_water', 'Telephone', 'Room_service',\n",
       "       'Television', 'Extra'],\n",
       "      dtype='object')"
      ]
     },
     "execution_count": 29,
     "metadata": {},
     "output_type": "execute_result"
    }
   ],
   "source": [
    "df1.columns"
   ]
  },
  {
   "cell_type": "code",
   "execution_count": 245,
   "metadata": {
    "collapsed": true
   },
   "outputs": [
    {
     "data": {
      "text/plain": [
       "None                                                                                                                                                                                                                                                                          5802\n",
       "value                                                                                                                                                                                                                                                                         4845\n",
       "Bathroom Toiletries | Attached Bathroom | Hot & Cold water                                                                                                                                                                                                                     200\n",
       "Bathroom Toiletries|Attached Bathroom|Hot & Cold water                                                                                                                                                                                                                         170\n",
       "Bathroom Toiletries | Hot/cold Water | Attached Bathroom                                                                                                                                                                                                                       149\n",
       "                                                                                                                                                                                                                                                                              ... \n",
       "Mineral Water | Fruit Basket | Cookies | Telephone | Television | Air conditioning | Mini bar | Safe | Private bathroom | Hot & Cold Running Water | Multi-line phone                                                                                                            1\n",
       "Mineral Water | Snack Basket | Fruit Basket | Daily Newspaper | Room Service | Room Heater | Direct dial phone | Air conditioning | Mini bar | Bathtub | Safe Deposit Locker | Refrigerator | Cable T V | Intercom Facility | Shower Area | Hot/cold Water | Dinning Table       1\n",
       "Bathroom Toiletries | Mineral Water | 24-hr Room Service | Cable T V | Daily Newspaper                                                                                                                                                                                           1\n",
       "Tea/Coffee Maker|Television|Air conditioning|Mini bar|Hot/cold Water|Attached Bathroom|Shower                                                                                                                                                                                    1\n",
       "Hot & Cold Running Water|TV|Western Toilet                                                                                                                                                                                                                                       1\n",
       "Name: in_your_room, Length: 6144, dtype: int64"
      ]
     },
     "execution_count": 245,
     "metadata": {},
     "output_type": "execute_result"
    }
   ],
   "source": [
    "df1['in_your_room'].value_counts()\n",
    "\n",
    "#Observation\n",
    "'''This column has around 50% missing data and doesn't have a constant number of sub-categories for each \n",
    "distinct category and is very vague to be considered for analysis\n",
    "'''"
   ]
  },
  {
   "cell_type": "code",
   "execution_count": null,
   "metadata": {},
   "outputs": [],
   "source": [
    "############ Dealing with - highlight_value ##############"
   ]
  },
  {
   "cell_type": "code",
   "execution_count": 249,
   "metadata": {
    "collapsed": true
   },
   "outputs": [
    {
     "data": {
      "text/plain": [
       "{{facility}}                                                                                               4845\n",
       "Doctor on Call                                                                                              310\n",
       "Front desk|Room Service                                                                                     152\n",
       "Extra Mattress (On Request)                                                                                 133\n",
       "Front desk                                                                                                  114\n",
       "Doctor on Call|Front desk|Room Service                                                                      100\n",
       "24 Hour Doctor On Call.                                                                                      91\n",
       "Doctor on Call|Room Service                                                                                  89\n",
       "Room Service                                                                                                 77\n",
       "Doctor on Call|Room service                                                                                  54\n",
       "Air Conditioned                                                                                              48\n",
       "Free Parking                                                                                                 43\n",
       "Laundry Service                                                                                              41\n",
       "24 hours power back-up                                                                                       37\n",
       "Room service (24 hours)                                                                                      34\n",
       "Airport Transfer|Doctor on Call|Laundry Service|Parking Facility|Railway Station Transfer|Taxi Services      33\n",
       "Front desk|Parking                                                                                           32\n",
       "Doctor on Call|Front desk|Housekeeping|Parking Facility                                                      24\n",
       "Airport Transfer|Doctor on Call|Laundry Service|Railway Station Transfer|Taxi Services                       22\n",
       "Doctor on Call|Front desk                                                                                    21\n",
       "Name: highlight_value, dtype: int64"
      ]
     },
     "execution_count": 249,
     "metadata": {},
     "output_type": "execute_result"
    }
   ],
   "source": [
    "df1.highlight_value.value_counts()[:20]\n",
    "#df1['highlight_value'] = df1['highlight_value'].replace('{{facility}}','facility').astype(str)\n"
   ]
  },
  {
   "cell_type": "code",
   "execution_count": null,
   "metadata": {},
   "outputs": [],
   "source": [
    "############ checking traveller_rating ###############"
   ]
  },
  {
   "cell_type": "code",
   "execution_count": 486,
   "metadata": {
    "collapsed": true
   },
   "outputs": [
    {
     "data": {
      "text/plain": [
       "count    19981.000000\n",
       "mean         0.044542\n",
       "std          0.469828\n",
       "min          0.000000\n",
       "25%          0.000000\n",
       "50%          0.000000\n",
       "75%          0.000000\n",
       "max          5.000000\n",
       "Name: Location, dtype: float64"
      ]
     },
     "execution_count": 486,
     "metadata": {},
     "output_type": "execute_result"
    }
   ],
   "source": []
  },
  {
   "cell_type": "markdown",
   "metadata": {},
   "source": [
    "### Baseline model data prep"
   ]
  },
  {
   "cell_type": "code",
   "execution_count": 487,
   "metadata": {},
   "outputs": [],
   "source": [
    "#basic model with basic features - drop complicated features\n",
    "\n",
    "df2 = df1.copy()\n",
    "\n",
    "df2 = df2.drop([ 'property_name', 'area', 'mmt_traveller_type_review_count', 'highlight_value', 'in_your_room', 'is_value_plus'], axis=1)\n"
   ]
  },
  {
   "cell_type": "code",
   "execution_count": 493,
   "metadata": {},
   "outputs": [
    {
     "data": {
      "text/plain": [
       "Index(['city', 'hotel_star_rating', 'latitude', 'longitude',\n",
       "       'mmt_holidayiq_review_count', 'mmt_location_rating', 'mmt_review_count',\n",
       "       'mmt_review_rating', 'mmt_review_score', 'mmt_tripadvisor_count',\n",
       "       'property_type', 'room_types', 'Location', 'Hospitality', 'Facilities',\n",
       "       'Cleanliness', 'Value_for_Money', 'Food', 'is_value_plus'],\n",
       "      dtype='object')"
      ]
     },
     "execution_count": 493,
     "metadata": {},
     "output_type": "execute_result"
    }
   ],
   "source": [
    "df2 = df2.drop(['traveller_rating'], axis= 1)\n",
    "df2.columns"
   ]
  },
  {
   "cell_type": "code",
   "execution_count": 40,
   "metadata": {},
   "outputs": [],
   "source": [
    "# converting to numeric\n",
    "df.is_value_plus = df.is_value_plus.map({'no': 0, 'yes': 1})"
   ]
  },
  {
   "cell_type": "code",
   "execution_count": 43,
   "metadata": {},
   "outputs": [
    {
     "data": {
      "text/plain": [
       "Index(['area', 'city', 'hotel_star_rating', 'latitude', 'longitude',\n",
       "       'mmt_holidayiq_review_count', 'mmt_location_rating', 'mmt_review_count',\n",
       "       'mmt_review_rating', 'mmt_review_score', 'mmt_tripadvisor_count',\n",
       "       'property_type', 'room_types', 'traveller_rating'],\n",
       "      dtype='object')"
      ]
     },
     "execution_count": 43,
     "metadata": {},
     "output_type": "execute_result"
    }
   ],
   "source": [
    "df3 = df1.copy()\n",
    "\n",
    "df3 = df3.drop([ 'in_your_room', 'is_value_plus','property_name', 'mmt_traveller_type_review_count', 'highlight_value','Bathroom_Toiletries', 'Telephone', 'Room_service', 'Television', 'Extra','Attached_Bathroom', 'Hot/Cold_water', 'in_your_room', 'is_value_plus'], axis=1)\n",
    "df3['is_value_plus'] = df.is_value_plus\n",
    "\n",
    "df3.columns"
   ]
  },
  {
   "cell_type": "code",
   "execution_count": 44,
   "metadata": {},
   "outputs": [
    {
     "data": {
      "text/plain": [
       "area                              0\n",
       "city                              0\n",
       "hotel_star_rating                 0\n",
       "latitude                         19\n",
       "longitude                        19\n",
       "mmt_holidayiq_review_count    10672\n",
       "mmt_location_rating            8459\n",
       "mmt_review_count              10635\n",
       "mmt_review_rating              8459\n",
       "mmt_review_score              10233\n",
       "mmt_tripadvisor_count          8844\n",
       "property_type                   109\n",
       "room_types                     4900\n",
       "traveller_rating              13231\n",
       "dtype: int64"
      ]
     },
     "execution_count": 44,
     "metadata": {},
     "output_type": "execute_result"
    }
   ],
   "source": [
    "df3.isnull().sum()"
   ]
  },
  {
   "cell_type": "code",
   "execution_count": 306,
   "metadata": {},
   "outputs": [],
   "source": [
    "############ Dealing with - is_value_plus ##############"
   ]
  },
  {
   "cell_type": "code",
   "execution_count": 489,
   "metadata": {},
   "outputs": [
    {
     "data": {
      "text/plain": [
       "0    19239\n",
       "1      761\n",
       "Name: is_value_plus, dtype: int64"
      ]
     },
     "execution_count": 489,
     "metadata": {},
     "output_type": "execute_result"
    }
   ],
   "source": [
    "df.is_value_plus.value_counts()"
   ]
  },
  {
   "cell_type": "code",
   "execution_count": 38,
   "metadata": {},
   "outputs": [],
   "source": [
    "\n",
    "#df.is_value_plus.value_counts()\n",
    "\n",
    "#df2['is_value_plus'] = df.is_value_plus\n"
   ]
  },
  {
   "cell_type": "code",
   "execution_count": 332,
   "metadata": {},
   "outputs": [],
   "source": [
    "############ Dealing with - mmt_review_count ##############"
   ]
  },
  {
   "cell_type": "code",
   "execution_count": 340,
   "metadata": {
    "collapsed": true
   },
   "outputs": [
    {
     "data": {
      "text/plain": [
       "0.0      2669\n",
       "1.0       958\n",
       "2.0       592\n",
       "3.0       385\n",
       "4.0       300\n",
       "         ... \n",
       "262.0       1\n",
       "200.0       1\n",
       "287.0       1\n",
       "144.0       1\n",
       "157.0       1\n",
       "Name: mmt_review_count, Length: 301, dtype: int64"
      ]
     },
     "execution_count": 340,
     "metadata": {},
     "output_type": "execute_result"
    }
   ],
   "source": [
    "df2.mmt_review_count.value_counts()"
   ]
  },
  {
   "cell_type": "code",
   "execution_count": 47,
   "metadata": {},
   "outputs": [
    {
     "data": {
      "text/plain": [
       "0"
      ]
     },
     "execution_count": 47,
     "metadata": {},
     "output_type": "execute_result"
    }
   ],
   "source": [
    "df3.mmt_review_count.isnull().sum()"
   ]
  },
  {
   "cell_type": "code",
   "execution_count": 45,
   "metadata": {},
   "outputs": [],
   "source": [
    "# substituting missing value with mean\n",
    "df3['mmt_review_count'] = df3['mmt_review_count'].fillna(df3['mmt_review_count'].mean())"
   ]
  },
  {
   "cell_type": "code",
   "execution_count": null,
   "metadata": {},
   "outputs": [],
   "source": [
    "############ Dealing with - mmt_review_rating ##############\n",
    "# for now drop the column"
   ]
  },
  {
   "cell_type": "code",
   "execution_count": 312,
   "metadata": {
    "collapsed": true
   },
   "outputs": [
    {
     "data": {
      "text/plain": [
       "{{ratingCriteria.name}}{{ratingCriteria.value}}            4845\n",
       "Excellent:1|Very Good:0|Average:0|Poor:0|Terrible:0         365\n",
       "Excellent:0|Very Good:0|Average:1|Poor:0|Terrible:0         186\n",
       "Excellent:0|Very Good:0|Average:0|Poor:1|Terrible:0         180\n",
       "Excellent:0|Very Good:1|Average:0|Poor:0|Terrible:0         132\n",
       "                                                           ... \n",
       "Excellent:39|Very Good:35|Average:33|Poor:13|Terrible:6       1\n",
       "Excellent:2|Very Good:5|Average:16|Poor:5|Terrible:3          1\n",
       "Excellent:154|Very Good:35|Average:10|Poor:3|Terrible:0       1\n",
       "Excellent:13|Very Good:6|Average:4|Poor:1|Terrible:1          1\n",
       "Excellent:1|Very Good:2|Average:4|Poor:7|Terrible:1           1\n",
       "Name: mmt_review_rating, Length: 3804, dtype: int64"
      ]
     },
     "execution_count": 312,
     "metadata": {},
     "output_type": "execute_result"
    }
   ],
   "source": [
    "df2.mmt_review_rating.value_counts()"
   ]
  },
  {
   "cell_type": "code",
   "execution_count": 48,
   "metadata": {},
   "outputs": [],
   "source": [
    "df3.mmt_review_rating.isnull().sum()\n",
    "\n",
    "df3 = df3.drop(['mmt_review_rating'], axis=1)"
   ]
  },
  {
   "cell_type": "code",
   "execution_count": 49,
   "metadata": {},
   "outputs": [
    {
     "data": {
      "text/plain": [
       "Index(['area', 'city', 'hotel_star_rating', 'latitude', 'longitude',\n",
       "       'mmt_holidayiq_review_count', 'mmt_location_rating', 'mmt_review_count',\n",
       "       'mmt_review_score', 'mmt_tripadvisor_count', 'property_type',\n",
       "       'room_types', 'traveller_rating'],\n",
       "      dtype='object')"
      ]
     },
     "execution_count": 49,
     "metadata": {},
     "output_type": "execute_result"
    }
   ],
   "source": [
    "df3.columns\n",
    "#print(len(df2))"
   ]
  },
  {
   "cell_type": "code",
   "execution_count": null,
   "metadata": {},
   "outputs": [],
   "source": [
    "############ Dealing with - mmt_tripadvisor_count  ##############"
   ]
  },
  {
   "cell_type": "code",
   "execution_count": 364,
   "metadata": {},
   "outputs": [
    {
     "data": {
      "text/plain": [
       "58.392532      8844\n",
       "1.000000        772\n",
       "2.000000        516\n",
       "3.000000        390\n",
       "4.000000        369\n",
       "               ... \n",
       "366.000000        1\n",
       "930.000000        1\n",
       "846.000000        1\n",
       "261.000000        1\n",
       "1631.000000       1\n",
       "Name: mmt_tripadvisor_count, Length: 674, dtype: int64"
      ]
     },
     "execution_count": 364,
     "metadata": {},
     "output_type": "execute_result"
    }
   ],
   "source": [
    "df2.mmt_tripadvisor_count.value_counts()"
   ]
  },
  {
   "cell_type": "code",
   "execution_count": 50,
   "metadata": {},
   "outputs": [
    {
     "data": {
      "text/plain": [
       "{'whiskers': [<matplotlib.lines.Line2D at 0x1978a61c1c8>,\n",
       "  <matplotlib.lines.Line2D at 0x1978a61cc08>],\n",
       " 'caps': [<matplotlib.lines.Line2D at 0x1978a618588>,\n",
       "  <matplotlib.lines.Line2D at 0x1978a615388>],\n",
       " 'boxes': [<matplotlib.lines.Line2D at 0x1978a621188>],\n",
       " 'medians': [<matplotlib.lines.Line2D at 0x1978a60dd88>],\n",
       " 'fliers': [<matplotlib.lines.Line2D at 0x1978a606148>],\n",
       " 'means': []}"
      ]
     },
     "execution_count": 50,
     "metadata": {},
     "output_type": "execute_result"
    },
    {
     "data": {
      "image/png": "[encoded data removed]",
      "text/plain": [
       "<Figure size 432x288 with 1 Axes>"
      ]
     },
     "metadata": {
      "needs_background": "light"
     },
     "output_type": "display_data"
    }
   ],
   "source": [
    "# boxplot\n",
    "\n",
    "plt.boxplot(df3.mmt_tripadvisor_count.value_counts())\n"
   ]
  },
  {
   "cell_type": "code",
   "execution_count": 51,
   "metadata": {},
   "outputs": [
    {
     "name": "stdout",
     "output_type": "stream",
     "text": [
      "52.83\n"
     ]
    }
   ],
   "source": [
    "# removing outliers looking at the boxplot\n",
    "ind1 = df3['mmt_tripadvisor_count']<400\n",
    "df22 = df3[ind1]\n",
    "mean_df2 = round(np.mean(df22['mmt_tripadvisor_count']), 2)\n",
    "print(mean_df2)"
   ]
  },
  {
   "cell_type": "code",
   "execution_count": 52,
   "metadata": {},
   "outputs": [],
   "source": [
    "df3['mmt_tripadvisor_count'] = df3['mmt_tripadvisor_count'].fillna(mean_df2)"
   ]
  },
  {
   "cell_type": "code",
   "execution_count": 53,
   "metadata": {},
   "outputs": [
    {
     "name": "stdout",
     "output_type": "stream",
     "text": [
      "19610\n"
     ]
    }
   ],
   "source": [
    "df3.mmt_tripadvisor_count.isnull().sum()\n",
    "\n",
    "ind1 = df3['mmt_tripadvisor_count']<500\n",
    "df3 = df3[ind1]\n",
    "\n",
    "print(len(df3))"
   ]
  },
  {
   "cell_type": "code",
   "execution_count": null,
   "metadata": {},
   "outputs": [],
   "source": [
    "############ Dealing with - mmt_holidayiq_review_count  ##############"
   ]
  },
  {
   "cell_type": "code",
   "execution_count": 57,
   "metadata": {},
   "outputs": [
    {
     "data": {
      "text/plain": [
       "13.58812     10452\n",
       "0.00000       4785\n",
       "1.00000        499\n",
       "2.00000        366\n",
       "3.00000        328\n",
       "             ...  \n",
       "469.00000        1\n",
       "154.00000        1\n",
       "199.00000        1\n",
       "497.00000        1\n",
       "131.00000        1\n",
       "Name: mmt_holidayiq_review_count, Length: 259, dtype: int64"
      ]
     },
     "execution_count": 57,
     "metadata": {},
     "output_type": "execute_result"
    }
   ],
   "source": [
    "df3.mmt_holidayiq_review_count.value_counts()\n",
    "# planning to drop column"
   ]
  },
  {
   "cell_type": "code",
   "execution_count": 58,
   "metadata": {},
   "outputs": [
    {
     "data": {
      "text/plain": [
       "0"
      ]
     },
     "execution_count": 58,
     "metadata": {},
     "output_type": "execute_result"
    }
   ],
   "source": [
    "df3['mmt_holidayiq_review_count'] = df3['mmt_holidayiq_review_count'].fillna(np.mean(df3['mmt_holidayiq_review_count']))\n",
    "\n",
    "df3.mmt_holidayiq_review_count.isnull().sum()"
   ]
  },
  {
   "cell_type": "code",
   "execution_count": null,
   "metadata": {},
   "outputs": [],
   "source": [
    "############ Dealing with - mmt_review_score ##############"
   ]
  },
  {
   "cell_type": "code",
   "execution_count": 59,
   "metadata": {},
   "outputs": [],
   "source": [
    "# No transformation needed!\n",
    "df3.mmt_review_score.value_counts()[:5]\n",
    "\n",
    "df3['mmt_review_score'] = df3['mmt_review_score'].fillna(np.mean(df3['mmt_review_score']))"
   ]
  },
  {
   "cell_type": "code",
   "execution_count": 61,
   "metadata": {},
   "outputs": [
    {
     "data": {
      "text/plain": [
       "0"
      ]
     },
     "execution_count": 61,
     "metadata": {},
     "output_type": "execute_result"
    }
   ],
   "source": [
    "df3.mmt_review_score.isnull().sum()"
   ]
  },
  {
   "cell_type": "code",
   "execution_count": 217,
   "metadata": {},
   "outputs": [],
   "source": [
    "############ Dealing with - mmt_location_rating ##############"
   ]
  },
  {
   "cell_type": "code",
   "execution_count": 74,
   "metadata": {},
   "outputs": [
    {
     "name": "stderr",
     "output_type": "stream",
     "text": [
      "C:\\Anaconda\\lib\\site-packages\\ipykernel_launcher.py:5: SettingWithCopyWarning: \n",
      "A value is trying to be set on a copy of a slice from a DataFrame\n",
      "\n",
      "See the caveats in the documentation: http://pandas.pydata.org/pandas-docs/stable/user_guide/indexing.html#returning-a-view-versus-a-copy\n",
      "  \"\"\"\n"
     ]
    },
    {
     "name": "stdout",
     "output_type": "stream",
     "text": [
      "4.8\n"
     ]
    }
   ],
   "source": [
    "# Extracting rating number\n",
    "temp11 = df['mmt_location_rating']\n",
    "for i in range(len(temp11)):\n",
    "    if str(temp11[i]).startswith('L') == True:\n",
    "        temp11[i] = str(temp11[i]).split(':')[1]\n",
    "\n",
    "#df1.mmt_location_rating[77]\n",
    "print(temp11[77])\n",
    "\n",
    "#df2['mmt_location_rating'] = temp11"
   ]
  },
  {
   "cell_type": "code",
   "execution_count": 76,
   "metadata": {},
   "outputs": [],
   "source": [
    "df3['mmt_location_rating'] = df3['mmt_location_rating'].fillna('Unknown')\n",
    "\n",
    "#df['mmt_location_rating'].value_counts()"
   ]
  },
  {
   "cell_type": "code",
   "execution_count": 77,
   "metadata": {
    "scrolled": true
   },
   "outputs": [],
   "source": [
    "# Dropping mmt_location_rating due to more than 50% missing data\n",
    "df3 = df3.drop(['mmt_location_rating'], axis = 1)\n"
   ]
  },
  {
   "cell_type": "code",
   "execution_count": 78,
   "metadata": {},
   "outputs": [
    {
     "data": {
      "text/plain": [
       "Index(['area', 'city', 'hotel_star_rating', 'latitude', 'longitude',\n",
       "       'mmt_holidayiq_review_count', 'mmt_review_count', 'mmt_review_score',\n",
       "       'mmt_tripadvisor_count', 'property_type', 'room_types',\n",
       "       'traveller_rating'],\n",
       "      dtype='object')"
      ]
     },
     "execution_count": 78,
     "metadata": {},
     "output_type": "execute_result"
    }
   ],
   "source": [
    "df3.columns"
   ]
  },
  {
   "cell_type": "code",
   "execution_count": 400,
   "metadata": {},
   "outputs": [],
   "source": [
    "########## Dealing with - latitude, longitude #########\n",
    "# Deleting the 19 missing rows"
   ]
  },
  {
   "cell_type": "code",
   "execution_count": 80,
   "metadata": {},
   "outputs": [
    {
     "data": {
      "text/plain": [
       "19"
      ]
     },
     "execution_count": 80,
     "metadata": {},
     "output_type": "execute_result"
    }
   ],
   "source": [
    "df3.longitude.isna().sum()"
   ]
  },
  {
   "cell_type": "code",
   "execution_count": 82,
   "metadata": {},
   "outputs": [
    {
     "name": "stdout",
     "output_type": "stream",
     "text": [
      "19591\n"
     ]
    }
   ],
   "source": [
    "df3 = df3.dropna(how='any', subset=['latitude'])\n",
    "\n",
    "print(len(df3))"
   ]
  },
  {
   "cell_type": "code",
   "execution_count": 86,
   "metadata": {},
   "outputs": [
    {
     "data": {
      "text/plain": [
       "0"
      ]
     },
     "execution_count": 86,
     "metadata": {},
     "output_type": "execute_result"
    }
   ],
   "source": [
    "# getting average lat and long values by city:\n",
    "#df = df.dropna(how='any', subset=['latitude'])\n",
    "\n",
    "df3.longitude.isna().sum()"
   ]
  },
  {
   "cell_type": "code",
   "execution_count": 254,
   "metadata": {},
   "outputs": [],
   "source": [
    "df4 = df3.copy()"
   ]
  },
  {
   "cell_type": "code",
   "execution_count": 250,
   "metadata": {},
   "outputs": [],
   "source": [
    "# Replacing long latitude zero values by city wise average longitude -latitude value\n",
    "temp = {}\n",
    "\n",
    "for i in range(len(df4)):\n",
    "    t = df4.iloc[i]\n",
    "    if t['latitude'] != 0:\n",
    "        if t['city'] not in temp.keys():\n",
    "            temp[t['city']] = [1,t['latitude'],t['longitude']]\n",
    "        else:\n",
    "            temp[t['city']][0] += 1\n",
    "            temp[t['city']][1] += t['latitude']\n",
    "            temp[t['city']][2] += t['longitude']"
   ]
  },
  {
   "cell_type": "code",
   "execution_count": 255,
   "metadata": {
    "collapsed": true
   },
   "outputs": [
    {
     "name": "stderr",
     "output_type": "stream",
     "text": [
      "C:\\Anaconda\\lib\\site-packages\\ipykernel_launcher.py:5: SettingWithCopyWarning: \n",
      "A value is trying to be set on a copy of a slice from a DataFrame\n",
      "\n",
      "See the caveats in the documentation: http://pandas.pydata.org/pandas-docs/stable/user_guide/indexing.html#returning-a-view-versus-a-copy\n",
      "  \"\"\"\n",
      "C:\\Anaconda\\lib\\site-packages\\ipykernel_launcher.py:6: SettingWithCopyWarning: \n",
      "A value is trying to be set on a copy of a slice from a DataFrame\n",
      "\n",
      "See the caveats in the documentation: http://pandas.pydata.org/pandas-docs/stable/user_guide/indexing.html#returning-a-view-versus-a-copy\n",
      "  \n"
     ]
    }
   ],
   "source": [
    "for i in range(len(df3)):\n",
    "    #print(df3['city'][i])\n",
    "    t = df3.iloc[i]\n",
    "    if t['latitude'] == 0 and (t['city'] in temp.keys()):\n",
    "        t['latitude'] = temp[t['city']][1]/(temp[t['city']][0])\n",
    "        t['longitude'] = temp[t['city']][2]/(temp[t['city']][0])"
   ]
  },
  {
   "cell_type": "code",
   "execution_count": 256,
   "metadata": {},
   "outputs": [
    {
     "data": {
      "text/plain": [
       "0"
      ]
     },
     "execution_count": 256,
     "metadata": {},
     "output_type": "execute_result"
    }
   ],
   "source": [
    "df3['latitude'].isnull().sum()"
   ]
  },
  {
   "cell_type": "code",
   "execution_count": 257,
   "metadata": {},
   "outputs": [
    {
     "data": {
      "text/plain": [
       "0"
      ]
     },
     "execution_count": 257,
     "metadata": {},
     "output_type": "execute_result"
    }
   ],
   "source": [
    "df3['longitude'].isnull().sum()"
   ]
  },
  {
   "cell_type": "code",
   "execution_count": 258,
   "metadata": {},
   "outputs": [],
   "source": [
    "########## Dealing with - room_types #########\n",
    "# Gave missing values a new class unknown"
   ]
  },
  {
   "cell_type": "code",
   "execution_count": 87,
   "metadata": {},
   "outputs": [],
   "source": [
    "\n",
    "df3['room_types'] = df3['room_types'].replace(\"`standard\",'Standard').astype(str)\n",
    "df3['room_types'] = df3['room_types'].replace(\"`standard Room\",'Standard Room').astype(str)\n"
   ]
  },
  {
   "cell_type": "code",
   "execution_count": 92,
   "metadata": {
    "collapsed": true
   },
   "outputs": [
    {
     "data": {
      "text/plain": [
       "Unknown                                                                                                                         4785\n",
       "Deluxe                                                                                                                          1473\n",
       "Standard Room                                                                                                                    854\n",
       "Standard                                                                                                                         645\n",
       "Deluxe Room                                                                                                                      511\n",
       "                                                                                                                                ... \n",
       "Double Ac Budget|Ac Heritage                                                                                                       1\n",
       "2 Bed Standard Non Ac|3 Bed Standard Non Ac|4 Bed Standard Non Ac|2 Bed Standard Ac Room|3 Bed Standard Ac|4 Bed Standard Ac       1\n",
       "Royal Cottage                                                                                                                      1\n",
       "Deluxe|Regal                                                                                                                       1\n",
       "Ac Royal Deluxe|Royal Executive                                                                                                    1\n",
       "Name: room_types, Length: 5170, dtype: int64"
      ]
     },
     "execution_count": 92,
     "metadata": {},
     "output_type": "execute_result"
    }
   ],
   "source": [
    "df3.room_types.value_counts()"
   ]
  },
  {
   "cell_type": "code",
   "execution_count": 91,
   "metadata": {},
   "outputs": [
    {
     "data": {
      "text/plain": [
       "0"
      ]
     },
     "execution_count": 91,
     "metadata": {},
     "output_type": "execute_result"
    }
   ],
   "source": [
    "df3['room_types'] = df3['room_types'].replace('nan', 'Unknown').astype(str)\n",
    "\n",
    "df3.room_types.isnull().sum()"
   ]
  },
  {
   "cell_type": "code",
   "execution_count": null,
   "metadata": {},
   "outputs": [],
   "source": [
    "# We can see that this is similar to in_your_room variable and will be dropped before analysis"
   ]
  },
  {
   "cell_type": "code",
   "execution_count": null,
   "metadata": {},
   "outputs": [],
   "source": [
    "############ Dealing with - property_type ###############"
   ]
  },
  {
   "cell_type": "code",
   "execution_count": 96,
   "metadata": {},
   "outputs": [
    {
     "data": {
      "text/plain": [
       "0"
      ]
     },
     "execution_count": 96,
     "metadata": {},
     "output_type": "execute_result"
    }
   ],
   "source": [
    "df3.property_type.isnull().sum()"
   ]
  },
  {
   "cell_type": "code",
   "execution_count": 95,
   "metadata": {},
   "outputs": [],
   "source": [
    "# Filling missing values of property_type with the most frequent class - Hotel\n",
    "\n",
    "df3['property_type'] = df3['property_type'].fillna('Hotel')\n"
   ]
  },
  {
   "cell_type": "code",
   "execution_count": 97,
   "metadata": {},
   "outputs": [
    {
     "data": {
      "text/plain": [
       "Hotel          19250\n",
       "Lodge            180\n",
       "Houseboat         30\n",
       "Guest House       29\n",
       "Homestay          29\n",
       "Cottage           16\n",
       "Apartment         16\n",
       "Resort            15\n",
       "Camp              12\n",
       "Villa              6\n",
       "Beach Hut          4\n",
       "Hostel             2\n",
       "Tree house         1\n",
       "Palace             1\n",
       "Name: property_type, dtype: int64"
      ]
     },
     "execution_count": 97,
     "metadata": {},
     "output_type": "execute_result"
    }
   ],
   "source": [
    "df3.property_type.value_counts()"
   ]
  },
  {
   "cell_type": "code",
   "execution_count": null,
   "metadata": {},
   "outputs": [],
   "source": [
    "########### Dealing with traveller_rating ############### \n",
    "# This variable is dropped as it has large number of missing data and hence won't be significant"
   ]
  },
  {
   "cell_type": "code",
   "execution_count": 102,
   "metadata": {},
   "outputs": [],
   "source": [
    "df3 = df3.drop(['traveller_rating'], axis = 1)"
   ]
  },
  {
   "cell_type": "code",
   "execution_count": null,
   "metadata": {},
   "outputs": [],
   "source": [
    "########## Final dataframe preparation - making data numerical ##########"
   ]
  },
  {
   "cell_type": "code",
   "execution_count": 105,
   "metadata": {
    "collapsed": true
   },
   "outputs": [
    {
     "data": {
      "text/plain": [
       "area                          0\n",
       "city                          0\n",
       "hotel_star_rating             0\n",
       "latitude                      0\n",
       "longitude                     0\n",
       "mmt_holidayiq_review_count    0\n",
       "mmt_review_count              0\n",
       "mmt_review_score              0\n",
       "mmt_tripadvisor_count         0\n",
       "property_type                 0\n",
       "room_types                    0\n",
       "dtype: int64"
      ]
     },
     "execution_count": 105,
     "metadata": {},
     "output_type": "execute_result"
    }
   ],
   "source": [
    "df3.isna().sum()"
   ]
  },
  {
   "cell_type": "code",
   "execution_count": 104,
   "metadata": {},
   "outputs": [
    {
     "data": {
      "text/plain": [
       "{'area': dtype('O'),\n",
       " 'city': dtype('O'),\n",
       " 'hotel_star_rating': dtype('O'),\n",
       " 'latitude': dtype('float64'),\n",
       " 'longitude': dtype('float64'),\n",
       " 'mmt_holidayiq_review_count': dtype('float64'),\n",
       " 'mmt_review_count': dtype('float64'),\n",
       " 'mmt_review_score': dtype('float64'),\n",
       " 'mmt_tripadvisor_count': dtype('float64'),\n",
       " 'property_type': dtype('O'),\n",
       " 'room_types': dtype('O')}"
      ]
     },
     "execution_count": 104,
     "metadata": {},
     "output_type": "execute_result"
    }
   ],
   "source": [
    "dict(df3.dtypes)"
   ]
  },
  {
   "cell_type": "code",
   "execution_count": null,
   "metadata": {},
   "outputs": [],
   "source": [
    "###### Changing categorical variables to numeric format using Label encoder ######"
   ]
  },
  {
   "cell_type": "code",
   "execution_count": 106,
   "metadata": {},
   "outputs": [
    {
     "name": "stdout",
     "output_type": "stream",
     "text": [
      "NewDelhiAndNCR    1582\n",
      "Goa               1088\n",
      "Mumbai             590\n",
      "Bangalore          523\n",
      "Jaipur             505\n",
      "                  ... \n",
      "Jhalawar             1\n",
      "Harnai               1\n",
      "Samode               1\n",
      "Chitrakoot           1\n",
      "Ramtek               1\n",
      "Name: city, Length: 760, dtype: int64\n"
     ]
    }
   ],
   "source": [
    "from sklearn import preprocessing\n",
    "le = preprocessing.LabelEncoder()\n",
    "\n",
    "# working on city feature  \n",
    "\n",
    "df3['city'] = df3['city'].replace('WeekendGetawaysAroundBangalore', 'Bangalore')\n",
    "df3['city'] = df3['city'].replace('WeekendGetawaysAroundChandigarh', 'Chandigarh')\n",
    "df3['city'] = df3['city'].replace('WeekendGetawaysAroundChennai', 'Chennai')\n",
    "df3['city'] = df3['city'].replace('WeekendGetawaysAroundDelhi', 'NewDelhiAndNCR')\n",
    "df3['city'] = df3['city'].replace('WeekendGetawaysAroundHyderabad', 'Hyderabad')\n",
    "df3['city'] = df3['city'].replace('WeekendGetawaysAroundMumbai', 'Mumbai')\n",
    "df3['city'] = df3['city'].replace('WeekendGetawaysAroundPune', 'Pune')\n",
    "df3['city'] = df3['city'].replace('weekendgetawaysaroundhyderabad', 'Hyderabad')\n",
    "\n",
    "df3['city'] = df3['city'].replace('New Delhi And NCR', 'NewDelhiAndNCR')\n",
    "df3['city'] = df3['city'].replace('Neil Island', 'NeilIsland')\n",
    "df3['city'] = df3['city'].replace('Fatehpur Sikri', 'FatehpurSikri')\n",
    "\n",
    "\n",
    "le.fit(df3['city'])\n",
    "#print(le.classes_)\n",
    "\n",
    "print(df3['city'].value_counts())\n"
   ]
  },
  {
   "cell_type": "code",
   "execution_count": 107,
   "metadata": {
    "collapsed": true
   },
   "outputs": [
    {
     "name": "stdout",
     "output_type": "stream",
     "text": [
      "Hotel          19250\n",
      "Lodge            180\n",
      "Houseboat         30\n",
      "Guest House       29\n",
      "Homestay          29\n",
      "Cottage           16\n",
      "Apartment         16\n",
      "Resort            15\n",
      "Camp              12\n",
      "Villa              6\n",
      "Beach Hut          4\n",
      "Hostel             2\n",
      "Tree house         1\n",
      "Palace             1\n",
      "Name: property_type, dtype: int64\n"
     ]
    }
   ],
   "source": [
    "# working on property_type feature  \n",
    "\n",
    "print(df3['property_type'].value_counts())"
   ]
  },
  {
   "cell_type": "code",
   "execution_count": 108,
   "metadata": {},
   "outputs": [],
   "source": [
    "#print(le.classes_)\n",
    "\n",
    "df3['city'] = le.fit_transform(df3['city'])\n",
    "\n",
    "# working on property type\n",
    "\n",
    "df3['property_type'] = le.fit_transform(df3['property_type'])\n"
   ]
  },
  {
   "cell_type": "code",
   "execution_count": 114,
   "metadata": {},
   "outputs": [],
   "source": [
    "# working on area\n",
    "\n",
    "df3['area'] = le.fit_transform(df3['area'])"
   ]
  },
  {
   "cell_type": "code",
   "execution_count": 112,
   "metadata": {},
   "outputs": [],
   "source": [
    "# working on room_types feature  \n",
    "#print(df2['room_types'].value_counts())\n",
    "\n",
    "df3 = df3.drop(['room_types'], axis = 1)"
   ]
  },
  {
   "cell_type": "code",
   "execution_count": 117,
   "metadata": {
    "collapsed": true
   },
   "outputs": [
    {
     "data": {
      "text/plain": [
       "1    11270\n",
       "3     4187\n",
       "2     2814\n",
       "4      990\n",
       "5      285\n",
       "0       45\n",
       "Name: hotel_star_rating, dtype: int64"
      ]
     },
     "execution_count": 117,
     "metadata": {},
     "output_type": "execute_result"
    }
   ],
   "source": [
    "# Converting the Hotel-star rating to numeric format\n",
    "\n",
    "df3.hotel_star_rating = df3.hotel_star_rating.map({'0': 0, '1': 1, '2': 2, '3': 3,'4': 4, '5': 5})\n",
    "\n",
    "df3['hotel_star_rating'].value_counts()"
   ]
  },
  {
   "cell_type": "code",
   "execution_count": 122,
   "metadata": {},
   "outputs": [
    {
     "data": {
      "text/plain": [
       "{'area': dtype('int32'),\n",
       " 'city': dtype('int32'),\n",
       " 'hotel_star_rating': dtype('int32'),\n",
       " 'latitude': dtype('float16'),\n",
       " 'longitude': dtype('float16'),\n",
       " 'mmt_holidayiq_review_count': dtype('int32'),\n",
       " 'mmt_review_count': dtype('int32'),\n",
       " 'mmt_review_score': dtype('int32'),\n",
       " 'mmt_tripadvisor_count': dtype('int32'),\n",
       " 'property_type': dtype('int32')}"
      ]
     },
     "execution_count": 122,
     "metadata": {},
     "output_type": "execute_result"
    }
   ],
   "source": [
    "dict(df3.dtypes)"
   ]
  },
  {
   "cell_type": "code",
   "execution_count": null,
   "metadata": {},
   "outputs": [],
   "source": [
    "# Converting to required numeric datatype"
   ]
  },
  {
   "cell_type": "code",
   "execution_count": 121,
   "metadata": {},
   "outputs": [],
   "source": [
    "df3.latitude = df3.latitude.astype(np.float16)\n",
    "df3.longitude = df3.longitude.astype(np.float16)\n",
    "df3.hotel_star_rating = df3.hotel_star_rating.astype(int)\n",
    "df3.mmt_holidayiq_review_count = df3.mmt_holidayiq_review_count.astype(int)\n",
    "df3.mmt_review_count = df3.mmt_review_count.astype(int)\n",
    "df3.mmt_review_score = df3.mmt_review_score.astype(int)\n",
    "df3.mmt_tripadvisor_count = df3.mmt_tripadvisor_count.astype(int)\n",
    "#df2.traveller_rating = df2.traveller_rating.astype(float)\n"
   ]
  },
  {
   "cell_type": "markdown",
   "metadata": {},
   "source": [
    "## Predictive modeling"
   ]
  },
  {
   "cell_type": "markdown",
   "metadata": {},
   "source": [
    "### Logistic Regression - Baseline model"
   ]
  },
  {
   "cell_type": "markdown",
   "metadata": {},
   "source": [
    "#### Splitting dataset-Train and Test"
   ]
  },
  {
   "cell_type": "code",
   "execution_count": 259,
   "metadata": {},
   "outputs": [],
   "source": [
    "y = df3.hotel_star_rating\n",
    "X = df3.drop(['hotel_star_rating'], axis=1)"
   ]
  },
  {
   "cell_type": "code",
   "execution_count": 260,
   "metadata": {},
   "outputs": [],
   "source": [
    "from sklearn.model_selection import train_test_split"
   ]
  },
  {
   "cell_type": "code",
   "execution_count": 261,
   "metadata": {},
   "outputs": [],
   "source": [
    "X_train, X_test, y_train, y_test = train_test_split(X, y, test_size=0.2, random_state=42)\n"
   ]
  },
  {
   "cell_type": "markdown",
   "metadata": {},
   "source": [
    "#### Correlation matrix"
   ]
  },
  {
   "cell_type": "code",
   "execution_count": 262,
   "metadata": {},
   "outputs": [
    {
     "data": {
      "text/plain": [
       "<matplotlib.axes._subplots.AxesSubplot at 0x197badbff08>"
      ]
     },
     "execution_count": 262,
     "metadata": {},
     "output_type": "execute_result"
    },
    {
     "data": {
      "image/png": "[encoded data removed]",
      "text/plain": [
       "<Figure size 1080x648 with 2 Axes>"
      ]
     },
     "metadata": {
      "needs_background": "light"
     },
     "output_type": "display_data"
    }
   ],
   "source": [
    "# compute the correlation matrix\n",
    "corr = df3.corr()\n",
    "\n",
    "# set up the matplotlib figure\n",
    "ax=plt.subplots(figsize=(15,9))\n",
    "\n",
    "# drawing the heatmap \n",
    "sns.heatmap(corr, vmax=.3, square=True, annot = True)\n",
    "\n",
    "####### Observation #######\n",
    "\n",
    "# We can say that the Features : mmt_tripadvisor_count, mmt_review_score, mmt_review_count, latitude\n",
    "# and logitude have a positive correlation with the output "
   ]
  },
  {
   "cell_type": "markdown",
   "metadata": {},
   "source": [
    "#### Logistic regression"
   ]
  },
  {
   "cell_type": "code",
   "execution_count": 276,
   "metadata": {},
   "outputs": [
    {
     "name": "stdout",
     "output_type": "stream",
     "text": [
      "=== Confusion Matrix ===\n",
      "[[   1    3    0    1    0    0]\n",
      " [   2 2236    2   59    0    0]\n",
      " [   0  485    0   56    2    0]\n",
      " [   0  618    1  163   16    2]\n",
      " [   0  105    0   81   22    1]\n",
      " [   0   26    0   23   13    1]]\n",
      "\n",
      "\n",
      "=== Classification Report ===\n",
      "              precision    recall  f1-score   support\n",
      "\n",
      "           0       0.33      0.20      0.25         5\n",
      "           1       0.64      0.97      0.77      2299\n",
      "           2       0.00      0.00      0.00       543\n",
      "           3       0.43      0.20      0.28       800\n",
      "           4       0.42      0.11      0.17       209\n",
      "           5       0.25      0.02      0.03        63\n",
      "\n",
      "    accuracy                           0.62      3919\n",
      "   macro avg       0.34      0.25      0.25      3919\n",
      "weighted avg       0.49      0.62      0.52      3919\n",
      "\n",
      "\n",
      "\n"
     ]
    },
    {
     "name": "stderr",
     "output_type": "stream",
     "text": [
      "C:\\Anaconda\\lib\\site-packages\\sklearn\\linear_model\\logistic.py:469: FutureWarning: Default multi_class will be changed to 'auto' in 0.22. Specify the multi_class option to silence this warning.\n",
      "  \"this warning.\", FutureWarning)\n"
     ]
    }
   ],
   "source": [
    "# Building a Logistic regression model\n",
    "from sklearn.linear_model import LogisticRegression\n",
    "from sklearn.model_selection import cross_val_score\n",
    "from sklearn.metrics import classification_report, confusion_matrix\n",
    "\n",
    "LR = LogisticRegression(solver = 'lbfgs', C=1, penalty='l2')\n",
    "\n",
    "scaler = StandardScaler()\n",
    "\n",
    "scaler.fit(X_train)\n",
    "X_train1 = scaler.transform(X_train)\n",
    "X_test1 = scaler.transform(X_test)\n",
    "\n",
    "LR.fit(X_train1,y_train)\n",
    "\n",
    "y_pred = LR.predict(X_test1)\n",
    "\n",
    "print(\"=== Confusion Matrix ===\")\n",
    "print(confusion_matrix(y_test, y_pred))\n",
    "print('\\n')\n",
    "\n",
    "print(\"=== Classification Report ===\")\n",
    "print(classification_report(y_test, y_pred))\n",
    "print('\\n')\n"
   ]
  },
  {
   "cell_type": "code",
   "execution_count": 272,
   "metadata": {},
   "outputs": [],
   "source": [
    "###### Grid search for the best parameters ######\n",
    "\n",
    "from sklearn.model_selection import GridSearchCV\n",
    "from sklearn.pipeline import Pipeline\n",
    "from sklearn.preprocessing import MinMaxScaler, StandardScaler\n",
    "\n",
    "pipe_model0 = Pipeline([('scaler', StandardScaler()),\n",
    "                  ('classifier', LogisticRegression(solver = 'lbfgs'))\n",
    "                 ])\n",
    "\n",
    "param_grid0 = {'classifier__C':[0.1, 1, 10, 100],\n",
    "              'classifier__penalty': ['l2', 'none']\n",
    "             }\n",
    "\n",
    "gs0 = GridSearchCV(pipe_model0, param_grid0, cv=5, verbose=2)"
   ]
  },
  {
   "cell_type": "code",
   "execution_count": 273,
   "metadata": {
    "collapsed": true
   },
   "outputs": [
    {
     "name": "stdout",
     "output_type": "stream",
     "text": [
      "Fitting 5 folds for each of 8 candidates, totalling 40 fits\n",
      "[CV] classifier__C=0.1, classifier__penalty=l2 .......................\n",
      "[CV] ........ classifier__C=0.1, classifier__penalty=l2, total=   0.1s\n",
      "[CV] classifier__C=0.1, classifier__penalty=l2 .......................\n",
      "[CV] ........ classifier__C=0.1, classifier__penalty=l2, total=   0.1s\n",
      "[CV] classifier__C=0.1, classifier__penalty=l2 .......................\n"
     ]
    },
    {
     "name": "stderr",
     "output_type": "stream",
     "text": [
      "[Parallel(n_jobs=1)]: Using backend SequentialBackend with 1 concurrent workers.\n",
      "C:\\Anaconda\\lib\\site-packages\\sklearn\\linear_model\\logistic.py:469: FutureWarning: Default multi_class will be changed to 'auto' in 0.22. Specify the multi_class option to silence this warning.\n",
      "  \"this warning.\", FutureWarning)\n",
      "[Parallel(n_jobs=1)]: Done   1 out of   1 | elapsed:    0.0s remaining:    0.0s\n",
      "C:\\Anaconda\\lib\\site-packages\\sklearn\\linear_model\\logistic.py:469: FutureWarning: Default multi_class will be changed to 'auto' in 0.22. Specify the multi_class option to silence this warning.\n",
      "  \"this warning.\", FutureWarning)\n",
      "C:\\Anaconda\\lib\\site-packages\\sklearn\\linear_model\\logistic.py:469: FutureWarning: Default multi_class will be changed to 'auto' in 0.22. Specify the multi_class option to silence this warning.\n",
      "  \"this warning.\", FutureWarning)\n",
      "C:\\Anaconda\\lib\\site-packages\\sklearn\\linear_model\\logistic.py:469: FutureWarning: Default multi_class will be changed to 'auto' in 0.22. Specify the multi_class option to silence this warning.\n",
      "  \"this warning.\", FutureWarning)\n"
     ]
    },
    {
     "name": "stdout",
     "output_type": "stream",
     "text": [
      "[CV] ........ classifier__C=0.1, classifier__penalty=l2, total=   0.1s\n",
      "[CV] classifier__C=0.1, classifier__penalty=l2 .......................\n",
      "[CV] ........ classifier__C=0.1, classifier__penalty=l2, total=   0.2s\n",
      "[CV] classifier__C=0.1, classifier__penalty=l2 .......................\n"
     ]
    },
    {
     "name": "stderr",
     "output_type": "stream",
     "text": [
      "C:\\Anaconda\\lib\\site-packages\\sklearn\\linear_model\\logistic.py:469: FutureWarning: Default multi_class will be changed to 'auto' in 0.22. Specify the multi_class option to silence this warning.\n",
      "  \"this warning.\", FutureWarning)\n",
      "C:\\Anaconda\\lib\\site-packages\\sklearn\\linear_model\\logistic.py:1510: UserWarning: Setting penalty='none' will ignore the C and l1_ratio parameters\n",
      "  \"Setting penalty='none' will ignore the C and l1_ratio \"\n",
      "C:\\Anaconda\\lib\\site-packages\\sklearn\\linear_model\\logistic.py:469: FutureWarning: Default multi_class will be changed to 'auto' in 0.22. Specify the multi_class option to silence this warning.\n",
      "  \"this warning.\", FutureWarning)\n"
     ]
    },
    {
     "name": "stdout",
     "output_type": "stream",
     "text": [
      "[CV] ........ classifier__C=0.1, classifier__penalty=l2, total=   0.2s\n",
      "[CV] classifier__C=0.1, classifier__penalty=none .....................\n",
      "[CV] ...... classifier__C=0.1, classifier__penalty=none, total=   0.2s\n",
      "[CV] classifier__C=0.1, classifier__penalty=none .....................\n"
     ]
    },
    {
     "name": "stderr",
     "output_type": "stream",
     "text": [
      "C:\\Anaconda\\lib\\site-packages\\sklearn\\linear_model\\logistic.py:1510: UserWarning: Setting penalty='none' will ignore the C and l1_ratio parameters\n",
      "  \"Setting penalty='none' will ignore the C and l1_ratio \"\n",
      "C:\\Anaconda\\lib\\site-packages\\sklearn\\linear_model\\logistic.py:469: FutureWarning: Default multi_class will be changed to 'auto' in 0.22. Specify the multi_class option to silence this warning.\n",
      "  \"this warning.\", FutureWarning)\n",
      "C:\\Anaconda\\lib\\site-packages\\sklearn\\linear_model\\logistic.py:1510: UserWarning: Setting penalty='none' will ignore the C and l1_ratio parameters\n",
      "  \"Setting penalty='none' will ignore the C and l1_ratio \"\n",
      "C:\\Anaconda\\lib\\site-packages\\sklearn\\linear_model\\logistic.py:469: FutureWarning: Default multi_class will be changed to 'auto' in 0.22. Specify the multi_class option to silence this warning.\n",
      "  \"this warning.\", FutureWarning)\n"
     ]
    },
    {
     "name": "stdout",
     "output_type": "stream",
     "text": [
      "[CV] ...... classifier__C=0.1, classifier__penalty=none, total=   0.2s\n",
      "[CV] classifier__C=0.1, classifier__penalty=none .....................\n",
      "[CV] ...... classifier__C=0.1, classifier__penalty=none, total=   0.1s\n",
      "[CV] classifier__C=0.1, classifier__penalty=none .....................\n"
     ]
    },
    {
     "name": "stderr",
     "output_type": "stream",
     "text": [
      "C:\\Anaconda\\lib\\site-packages\\sklearn\\linear_model\\logistic.py:1510: UserWarning: Setting penalty='none' will ignore the C and l1_ratio parameters\n",
      "  \"Setting penalty='none' will ignore the C and l1_ratio \"\n",
      "C:\\Anaconda\\lib\\site-packages\\sklearn\\linear_model\\logistic.py:469: FutureWarning: Default multi_class will be changed to 'auto' in 0.22. Specify the multi_class option to silence this warning.\n",
      "  \"this warning.\", FutureWarning)\n",
      "C:\\Anaconda\\lib\\site-packages\\sklearn\\linear_model\\logistic.py:1510: UserWarning: Setting penalty='none' will ignore the C and l1_ratio parameters\n",
      "  \"Setting penalty='none' will ignore the C and l1_ratio \"\n",
      "C:\\Anaconda\\lib\\site-packages\\sklearn\\linear_model\\logistic.py:469: FutureWarning: Default multi_class will be changed to 'auto' in 0.22. Specify the multi_class option to silence this warning.\n",
      "  \"this warning.\", FutureWarning)\n"
     ]
    },
    {
     "name": "stdout",
     "output_type": "stream",
     "text": [
      "[CV] ...... classifier__C=0.1, classifier__penalty=none, total=   0.1s\n",
      "[CV] classifier__C=0.1, classifier__penalty=none .....................\n",
      "[CV] ...... classifier__C=0.1, classifier__penalty=none, total=   0.2s\n",
      "[CV] classifier__C=1, classifier__penalty=l2 .........................\n"
     ]
    },
    {
     "name": "stderr",
     "output_type": "stream",
     "text": [
      "C:\\Anaconda\\lib\\site-packages\\sklearn\\linear_model\\logistic.py:469: FutureWarning: Default multi_class will be changed to 'auto' in 0.22. Specify the multi_class option to silence this warning.\n",
      "  \"this warning.\", FutureWarning)\n",
      "C:\\Anaconda\\lib\\site-packages\\sklearn\\linear_model\\logistic.py:469: FutureWarning: Default multi_class will be changed to 'auto' in 0.22. Specify the multi_class option to silence this warning.\n",
      "  \"this warning.\", FutureWarning)\n"
     ]
    },
    {
     "name": "stdout",
     "output_type": "stream",
     "text": [
      "[CV] .......... classifier__C=1, classifier__penalty=l2, total=   0.1s\n",
      "[CV] classifier__C=1, classifier__penalty=l2 .........................\n",
      "[CV] .......... classifier__C=1, classifier__penalty=l2, total=   0.1s\n",
      "[CV] classifier__C=1, classifier__penalty=l2 .........................\n"
     ]
    },
    {
     "name": "stderr",
     "output_type": "stream",
     "text": [
      "C:\\Anaconda\\lib\\site-packages\\sklearn\\linear_model\\logistic.py:469: FutureWarning: Default multi_class will be changed to 'auto' in 0.22. Specify the multi_class option to silence this warning.\n",
      "  \"this warning.\", FutureWarning)\n",
      "C:\\Anaconda\\lib\\site-packages\\sklearn\\linear_model\\logistic.py:469: FutureWarning: Default multi_class will be changed to 'auto' in 0.22. Specify the multi_class option to silence this warning.\n",
      "  \"this warning.\", FutureWarning)\n"
     ]
    },
    {
     "name": "stdout",
     "output_type": "stream",
     "text": [
      "[CV] .......... classifier__C=1, classifier__penalty=l2, total=   0.1s\n",
      "[CV] classifier__C=1, classifier__penalty=l2 .........................\n",
      "[CV] .......... classifier__C=1, classifier__penalty=l2, total=   0.2s\n",
      "[CV] classifier__C=1, classifier__penalty=l2 .........................\n"
     ]
    },
    {
     "name": "stderr",
     "output_type": "stream",
     "text": [
      "C:\\Anaconda\\lib\\site-packages\\sklearn\\linear_model\\logistic.py:469: FutureWarning: Default multi_class will be changed to 'auto' in 0.22. Specify the multi_class option to silence this warning.\n",
      "  \"this warning.\", FutureWarning)\n",
      "C:\\Anaconda\\lib\\site-packages\\sklearn\\linear_model\\logistic.py:469: FutureWarning: Default multi_class will be changed to 'auto' in 0.22. Specify the multi_class option to silence this warning.\n",
      "  \"this warning.\", FutureWarning)\n"
     ]
    },
    {
     "name": "stdout",
     "output_type": "stream",
     "text": [
      "[CV] .......... classifier__C=1, classifier__penalty=l2, total=   0.1s\n",
      "[CV] classifier__C=1, classifier__penalty=none .......................\n",
      "[CV] ........ classifier__C=1, classifier__penalty=none, total=   0.1s\n",
      "[CV] classifier__C=1, classifier__penalty=none .......................\n"
     ]
    },
    {
     "name": "stderr",
     "output_type": "stream",
     "text": [
      "C:\\Anaconda\\lib\\site-packages\\sklearn\\linear_model\\logistic.py:469: FutureWarning: Default multi_class will be changed to 'auto' in 0.22. Specify the multi_class option to silence this warning.\n",
      "  \"this warning.\", FutureWarning)\n",
      "C:\\Anaconda\\lib\\site-packages\\sklearn\\linear_model\\logistic.py:469: FutureWarning: Default multi_class will be changed to 'auto' in 0.22. Specify the multi_class option to silence this warning.\n",
      "  \"this warning.\", FutureWarning)\n"
     ]
    },
    {
     "name": "stdout",
     "output_type": "stream",
     "text": [
      "[CV] ........ classifier__C=1, classifier__penalty=none, total=   0.1s\n",
      "[CV] classifier__C=1, classifier__penalty=none .......................\n",
      "[CV] ........ classifier__C=1, classifier__penalty=none, total=   0.2s\n",
      "[CV] classifier__C=1, classifier__penalty=none .......................\n"
     ]
    },
    {
     "name": "stderr",
     "output_type": "stream",
     "text": [
      "C:\\Anaconda\\lib\\site-packages\\sklearn\\linear_model\\logistic.py:469: FutureWarning: Default multi_class will be changed to 'auto' in 0.22. Specify the multi_class option to silence this warning.\n",
      "  \"this warning.\", FutureWarning)\n",
      "C:\\Anaconda\\lib\\site-packages\\sklearn\\linear_model\\logistic.py:469: FutureWarning: Default multi_class will be changed to 'auto' in 0.22. Specify the multi_class option to silence this warning.\n",
      "  \"this warning.\", FutureWarning)\n"
     ]
    },
    {
     "name": "stdout",
     "output_type": "stream",
     "text": [
      "[CV] ........ classifier__C=1, classifier__penalty=none, total=   0.1s\n",
      "[CV] classifier__C=1, classifier__penalty=none .......................\n",
      "[CV] ........ classifier__C=1, classifier__penalty=none, total=   0.1s\n",
      "[CV] classifier__C=10, classifier__penalty=l2 ........................\n"
     ]
    },
    {
     "name": "stderr",
     "output_type": "stream",
     "text": [
      "C:\\Anaconda\\lib\\site-packages\\sklearn\\linear_model\\logistic.py:469: FutureWarning: Default multi_class will be changed to 'auto' in 0.22. Specify the multi_class option to silence this warning.\n",
      "  \"this warning.\", FutureWarning)\n",
      "C:\\Anaconda\\lib\\site-packages\\sklearn\\linear_model\\logistic.py:469: FutureWarning: Default multi_class will be changed to 'auto' in 0.22. Specify the multi_class option to silence this warning.\n",
      "  \"this warning.\", FutureWarning)\n"
     ]
    },
    {
     "name": "stdout",
     "output_type": "stream",
     "text": [
      "[CV] ......... classifier__C=10, classifier__penalty=l2, total=   0.1s\n",
      "[CV] classifier__C=10, classifier__penalty=l2 ........................\n",
      "[CV] ......... classifier__C=10, classifier__penalty=l2, total=   0.2s\n",
      "[CV] classifier__C=10, classifier__penalty=l2 ........................\n"
     ]
    },
    {
     "name": "stderr",
     "output_type": "stream",
     "text": [
      "C:\\Anaconda\\lib\\site-packages\\sklearn\\linear_model\\logistic.py:469: FutureWarning: Default multi_class will be changed to 'auto' in 0.22. Specify the multi_class option to silence this warning.\n",
      "  \"this warning.\", FutureWarning)\n",
      "C:\\Anaconda\\lib\\site-packages\\sklearn\\linear_model\\logistic.py:469: FutureWarning: Default multi_class will be changed to 'auto' in 0.22. Specify the multi_class option to silence this warning.\n",
      "  \"this warning.\", FutureWarning)\n"
     ]
    },
    {
     "name": "stdout",
     "output_type": "stream",
     "text": [
      "[CV] ......... classifier__C=10, classifier__penalty=l2, total=   0.2s\n",
      "[CV] classifier__C=10, classifier__penalty=l2 ........................\n",
      "[CV] ......... classifier__C=10, classifier__penalty=l2, total=   0.1s\n",
      "[CV] classifier__C=10, classifier__penalty=l2 ........................\n"
     ]
    },
    {
     "name": "stderr",
     "output_type": "stream",
     "text": [
      "C:\\Anaconda\\lib\\site-packages\\sklearn\\linear_model\\logistic.py:469: FutureWarning: Default multi_class will be changed to 'auto' in 0.22. Specify the multi_class option to silence this warning.\n",
      "  \"this warning.\", FutureWarning)\n",
      "C:\\Anaconda\\lib\\site-packages\\sklearn\\linear_model\\logistic.py:1510: UserWarning: Setting penalty='none' will ignore the C and l1_ratio parameters\n",
      "  \"Setting penalty='none' will ignore the C and l1_ratio \"\n",
      "C:\\Anaconda\\lib\\site-packages\\sklearn\\linear_model\\logistic.py:469: FutureWarning: Default multi_class will be changed to 'auto' in 0.22. Specify the multi_class option to silence this warning.\n",
      "  \"this warning.\", FutureWarning)\n"
     ]
    },
    {
     "name": "stdout",
     "output_type": "stream",
     "text": [
      "[CV] ......... classifier__C=10, classifier__penalty=l2, total=   0.1s\n",
      "[CV] classifier__C=10, classifier__penalty=none ......................\n",
      "[CV] ....... classifier__C=10, classifier__penalty=none, total=   0.1s\n",
      "[CV] classifier__C=10, classifier__penalty=none ......................\n"
     ]
    },
    {
     "name": "stderr",
     "output_type": "stream",
     "text": [
      "C:\\Anaconda\\lib\\site-packages\\sklearn\\linear_model\\logistic.py:1510: UserWarning: Setting penalty='none' will ignore the C and l1_ratio parameters\n",
      "  \"Setting penalty='none' will ignore the C and l1_ratio \"\n",
      "C:\\Anaconda\\lib\\site-packages\\sklearn\\linear_model\\logistic.py:469: FutureWarning: Default multi_class will be changed to 'auto' in 0.22. Specify the multi_class option to silence this warning.\n",
      "  \"this warning.\", FutureWarning)\n",
      "C:\\Anaconda\\lib\\site-packages\\sklearn\\linear_model\\logistic.py:1510: UserWarning: Setting penalty='none' will ignore the C and l1_ratio parameters\n",
      "  \"Setting penalty='none' will ignore the C and l1_ratio \"\n",
      "C:\\Anaconda\\lib\\site-packages\\sklearn\\linear_model\\logistic.py:469: FutureWarning: Default multi_class will be changed to 'auto' in 0.22. Specify the multi_class option to silence this warning.\n",
      "  \"this warning.\", FutureWarning)\n"
     ]
    },
    {
     "name": "stdout",
     "output_type": "stream",
     "text": [
      "[CV] ....... classifier__C=10, classifier__penalty=none, total=   0.1s\n",
      "[CV] classifier__C=10, classifier__penalty=none ......................\n",
      "[CV] ....... classifier__C=10, classifier__penalty=none, total=   0.1s\n",
      "[CV] classifier__C=10, classifier__penalty=none ......................\n"
     ]
    },
    {
     "name": "stderr",
     "output_type": "stream",
     "text": [
      "C:\\Anaconda\\lib\\site-packages\\sklearn\\linear_model\\logistic.py:1510: UserWarning: Setting penalty='none' will ignore the C and l1_ratio parameters\n",
      "  \"Setting penalty='none' will ignore the C and l1_ratio \"\n",
      "C:\\Anaconda\\lib\\site-packages\\sklearn\\linear_model\\logistic.py:469: FutureWarning: Default multi_class will be changed to 'auto' in 0.22. Specify the multi_class option to silence this warning.\n",
      "  \"this warning.\", FutureWarning)\n",
      "C:\\Anaconda\\lib\\site-packages\\sklearn\\linear_model\\logistic.py:1510: UserWarning: Setting penalty='none' will ignore the C and l1_ratio parameters\n",
      "  \"Setting penalty='none' will ignore the C and l1_ratio \"\n",
      "C:\\Anaconda\\lib\\site-packages\\sklearn\\linear_model\\logistic.py:469: FutureWarning: Default multi_class will be changed to 'auto' in 0.22. Specify the multi_class option to silence this warning.\n",
      "  \"this warning.\", FutureWarning)\n"
     ]
    },
    {
     "name": "stdout",
     "output_type": "stream",
     "text": [
      "[CV] ....... classifier__C=10, classifier__penalty=none, total=   0.1s\n",
      "[CV] classifier__C=10, classifier__penalty=none ......................\n",
      "[CV] ....... classifier__C=10, classifier__penalty=none, total=   0.2s\n",
      "[CV] classifier__C=100, classifier__penalty=l2 .......................\n"
     ]
    },
    {
     "name": "stderr",
     "output_type": "stream",
     "text": [
      "C:\\Anaconda\\lib\\site-packages\\sklearn\\linear_model\\logistic.py:469: FutureWarning: Default multi_class will be changed to 'auto' in 0.22. Specify the multi_class option to silence this warning.\n",
      "  \"this warning.\", FutureWarning)\n"
     ]
    },
    {
     "name": "stdout",
     "output_type": "stream",
     "text": [
      "[CV] ........ classifier__C=100, classifier__penalty=l2, total=   0.2s\n",
      "[CV] classifier__C=100, classifier__penalty=l2 .......................\n"
     ]
    },
    {
     "name": "stderr",
     "output_type": "stream",
     "text": [
      "C:\\Anaconda\\lib\\site-packages\\sklearn\\linear_model\\logistic.py:469: FutureWarning: Default multi_class will be changed to 'auto' in 0.22. Specify the multi_class option to silence this warning.\n",
      "  \"this warning.\", FutureWarning)\n",
      "C:\\Anaconda\\lib\\site-packages\\sklearn\\linear_model\\logistic.py:469: FutureWarning: Default multi_class will be changed to 'auto' in 0.22. Specify the multi_class option to silence this warning.\n",
      "  \"this warning.\", FutureWarning)\n"
     ]
    },
    {
     "name": "stdout",
     "output_type": "stream",
     "text": [
      "[CV] ........ classifier__C=100, classifier__penalty=l2, total=   0.2s\n",
      "[CV] classifier__C=100, classifier__penalty=l2 .......................\n",
      "[CV] ........ classifier__C=100, classifier__penalty=l2, total=   0.2s\n",
      "[CV] classifier__C=100, classifier__penalty=l2 .......................\n"
     ]
    },
    {
     "name": "stderr",
     "output_type": "stream",
     "text": [
      "C:\\Anaconda\\lib\\site-packages\\sklearn\\linear_model\\logistic.py:469: FutureWarning: Default multi_class will be changed to 'auto' in 0.22. Specify the multi_class option to silence this warning.\n",
      "  \"this warning.\", FutureWarning)\n"
     ]
    },
    {
     "name": "stdout",
     "output_type": "stream",
     "text": [
      "[CV] ........ classifier__C=100, classifier__penalty=l2, total=   0.2s\n",
      "[CV] classifier__C=100, classifier__penalty=l2 .......................\n",
      "[CV] ........ classifier__C=100, classifier__penalty=l2, total=   0.2s"
     ]
    },
    {
     "name": "stderr",
     "output_type": "stream",
     "text": [
      "C:\\Anaconda\\lib\\site-packages\\sklearn\\linear_model\\logistic.py:469: FutureWarning: Default multi_class will be changed to 'auto' in 0.22. Specify the multi_class option to silence this warning.\n",
      "  \"this warning.\", FutureWarning)\n"
     ]
    },
    {
     "name": "stdout",
     "output_type": "stream",
     "text": [
      "\n",
      "[CV] classifier__C=100, classifier__penalty=none .....................\n",
      "[CV] ...... classifier__C=100, classifier__penalty=none, total=   0.1s\n",
      "[CV] classifier__C=100, classifier__penalty=none .....................\n"
     ]
    },
    {
     "name": "stderr",
     "output_type": "stream",
     "text": [
      "C:\\Anaconda\\lib\\site-packages\\sklearn\\linear_model\\logistic.py:1510: UserWarning: Setting penalty='none' will ignore the C and l1_ratio parameters\n",
      "  \"Setting penalty='none' will ignore the C and l1_ratio \"\n",
      "C:\\Anaconda\\lib\\site-packages\\sklearn\\linear_model\\logistic.py:469: FutureWarning: Default multi_class will be changed to 'auto' in 0.22. Specify the multi_class option to silence this warning.\n",
      "  \"this warning.\", FutureWarning)\n",
      "C:\\Anaconda\\lib\\site-packages\\sklearn\\linear_model\\logistic.py:1510: UserWarning: Setting penalty='none' will ignore the C and l1_ratio parameters\n",
      "  \"Setting penalty='none' will ignore the C and l1_ratio \"\n",
      "C:\\Anaconda\\lib\\site-packages\\sklearn\\linear_model\\logistic.py:469: FutureWarning: Default multi_class will be changed to 'auto' in 0.22. Specify the multi_class option to silence this warning.\n",
      "  \"this warning.\", FutureWarning)\n"
     ]
    },
    {
     "name": "stdout",
     "output_type": "stream",
     "text": [
      "[CV] ...... classifier__C=100, classifier__penalty=none, total=   0.1s\n",
      "[CV] classifier__C=100, classifier__penalty=none .....................\n",
      "[CV] ...... classifier__C=100, classifier__penalty=none, total=   0.1s\n",
      "[CV] classifier__C=100, classifier__penalty=none .....................\n"
     ]
    },
    {
     "name": "stderr",
     "output_type": "stream",
     "text": [
      "C:\\Anaconda\\lib\\site-packages\\sklearn\\linear_model\\logistic.py:1510: UserWarning: Setting penalty='none' will ignore the C and l1_ratio parameters\n",
      "  \"Setting penalty='none' will ignore the C and l1_ratio \"\n",
      "C:\\Anaconda\\lib\\site-packages\\sklearn\\linear_model\\logistic.py:469: FutureWarning: Default multi_class will be changed to 'auto' in 0.22. Specify the multi_class option to silence this warning.\n",
      "  \"this warning.\", FutureWarning)\n",
      "C:\\Anaconda\\lib\\site-packages\\sklearn\\linear_model\\logistic.py:1510: UserWarning: Setting penalty='none' will ignore the C and l1_ratio parameters\n",
      "  \"Setting penalty='none' will ignore the C and l1_ratio \"\n",
      "C:\\Anaconda\\lib\\site-packages\\sklearn\\linear_model\\logistic.py:469: FutureWarning: Default multi_class will be changed to 'auto' in 0.22. Specify the multi_class option to silence this warning.\n",
      "  \"this warning.\", FutureWarning)\n"
     ]
    },
    {
     "name": "stdout",
     "output_type": "stream",
     "text": [
      "[CV] ...... classifier__C=100, classifier__penalty=none, total=   0.1s\n",
      "[CV] classifier__C=100, classifier__penalty=none .....................\n"
     ]
    },
    {
     "name": "stderr",
     "output_type": "stream",
     "text": [
      "C:\\Anaconda\\lib\\site-packages\\sklearn\\linear_model\\logistic.py:1510: UserWarning: Setting penalty='none' will ignore the C and l1_ratio parameters\n",
      "  \"Setting penalty='none' will ignore the C and l1_ratio \"\n",
      "C:\\Anaconda\\lib\\site-packages\\sklearn\\linear_model\\logistic.py:469: FutureWarning: Default multi_class will be changed to 'auto' in 0.22. Specify the multi_class option to silence this warning.\n",
      "  \"this warning.\", FutureWarning)\n"
     ]
    },
    {
     "name": "stdout",
     "output_type": "stream",
     "text": [
      "[CV] ...... classifier__C=100, classifier__penalty=none, total=   0.2s\n"
     ]
    },
    {
     "name": "stderr",
     "output_type": "stream",
     "text": [
      "[Parallel(n_jobs=1)]: Done  40 out of  40 | elapsed:    5.7s finished\n",
      "C:\\Anaconda\\lib\\site-packages\\sklearn\\linear_model\\logistic.py:469: FutureWarning: Default multi_class will be changed to 'auto' in 0.22. Specify the multi_class option to silence this warning.\n",
      "  \"this warning.\", FutureWarning)\n"
     ]
    },
    {
     "data": {
      "text/plain": [
       "GridSearchCV(cv=5, error_score='raise-deprecating',\n",
       "             estimator=Pipeline(memory=None,\n",
       "                                steps=[('scaler',\n",
       "                                        StandardScaler(copy=True,\n",
       "                                                       with_mean=True,\n",
       "                                                       with_std=True)),\n",
       "                                       ('classifier',\n",
       "                                        LogisticRegression(C=1.0,\n",
       "                                                           class_weight=None,\n",
       "                                                           dual=False,\n",
       "                                                           fit_intercept=True,\n",
       "                                                           intercept_scaling=1,\n",
       "                                                           l1_ratio=None,\n",
       "                                                           max_iter=100,\n",
       "                                                           multi_class='warn',\n",
       "                                                           n_jobs=None,\n",
       "                                                           penalty='l2',\n",
       "                                                           random_state=None,\n",
       "                                                           solver='lbfgs',\n",
       "                                                           tol=0.0001,\n",
       "                                                           verbose=0,\n",
       "                                                           warm_start=False))],\n",
       "                                verbose=False),\n",
       "             iid='warn', n_jobs=None,\n",
       "             param_grid={'classifier__C': [0.1, 1, 10, 100],\n",
       "                         'classifier__penalty': ['l2', 'none']},\n",
       "             pre_dispatch='2*n_jobs', refit=True, return_train_score=False,\n",
       "             scoring=None, verbose=2)"
      ]
     },
     "execution_count": 273,
     "metadata": {},
     "output_type": "execute_result"
    }
   ],
   "source": [
    "# Fitiing multiple models to decide the best parameter\n",
    "gs0.fit(X_train, y_train)"
   ]
  },
  {
   "cell_type": "code",
   "execution_count": 274,
   "metadata": {},
   "outputs": [
    {
     "data": {
      "text/plain": [
       "{'classifier__C': 1, 'classifier__penalty': 'l2'}"
      ]
     },
     "execution_count": 274,
     "metadata": {},
     "output_type": "execute_result"
    }
   ],
   "source": [
    "gs0.best_params_"
   ]
  },
  {
   "cell_type": "code",
   "execution_count": null,
   "metadata": {},
   "outputs": [],
   "source": [
    "# This is the baseline model for the classification problem of hotel recommendation. \n",
    "# The accuracy for Logistic model is 62%\n",
    "# We further try other models - decision trees, Support vector machine"
   ]
  },
  {
   "cell_type": "markdown",
   "metadata": {},
   "source": [
    "### Random forest "
   ]
  },
  {
   "cell_type": "code",
   "execution_count": 284,
   "metadata": {},
   "outputs": [
    {
     "name": "stdout",
     "output_type": "stream",
     "text": [
      "=== Confusion Matrix ===\n",
      "[[   0    3    0    2    0    0]\n",
      " [   0 2060   83  146    9    1]\n",
      " [   0  235  186  115    7    0]\n",
      " [   0  234   62  469   32    3]\n",
      " [   0   40    9   74   82    4]\n",
      " [   0   16    2   16    8   21]]\n",
      "\n",
      "\n",
      "=== Classification Report ===\n",
      "              precision    recall  f1-score   support\n",
      "\n",
      "           0       0.00      0.00      0.00         5\n",
      "           1       0.80      0.90      0.84      2299\n",
      "           2       0.54      0.34      0.42       543\n",
      "           3       0.57      0.59      0.58       800\n",
      "           4       0.59      0.39      0.47       209\n",
      "           5       0.72      0.33      0.46        63\n",
      "\n",
      "    accuracy                           0.72      3919\n",
      "   macro avg       0.54      0.43      0.46      3919\n",
      "weighted avg       0.70      0.72      0.70      3919\n",
      "\n",
      "\n",
      "\n"
     ]
    },
    {
     "name": "stderr",
     "output_type": "stream",
     "text": [
      "C:\\Anaconda\\lib\\site-packages\\sklearn\\metrics\\classification.py:1437: UndefinedMetricWarning: Precision and F-score are ill-defined and being set to 0.0 in labels with no predicted samples.\n",
      "  'precision', 'predicted', average, warn_for)\n"
     ]
    }
   ],
   "source": [
    "\n",
    "from sklearn.ensemble import RandomForestClassifier\n",
    "\n",
    "model1 = RandomForestClassifier(n_estimators=200, \n",
    "                               bootstrap = True,\n",
    "                               max_features = 'auto')\n",
    "# Fit on training data\n",
    "model1.fit(X_train1, y_train)\n",
    "\n",
    "# Actual class predictions\n",
    "rfc_predict = model1.predict(X_test1)\n",
    "\n",
    "from sklearn.model_selection import cross_val_score\n",
    "from sklearn.metrics import classification_report, confusion_matrix\n",
    "\n",
    "print(\"=== Confusion Matrix ===\")\n",
    "print(confusion_matrix(y_test, rfc_predict))\n",
    "print('\\n')\n",
    "\n",
    "print(\"=== Classification Report ===\")\n",
    "print(classification_report(y_test, rfc_predict))\n",
    "print('\\n')\n"
   ]
  },
  {
   "cell_type": "code",
   "execution_count": 281,
   "metadata": {},
   "outputs": [],
   "source": [
    "###### Grid search for the best parameters ######\n",
    "\n",
    "from sklearn.model_selection import GridSearchCV\n",
    "from sklearn.pipeline import Pipeline\n",
    "from sklearn.preprocessing import MinMaxScaler, StandardScaler\n",
    "\n",
    "pipe_model1 = Pipeline([('scaler', StandardScaler()),\n",
    "                  ('classifier', RandomForestClassifier())\n",
    "                 ])\n",
    "\n",
    "param_grid1 = {'classifier__n_estimators':[200,250,300, 350],\n",
    "              'classifier__max_features': ['auto', 'sqrt', 'log2']\n",
    "             }\n",
    "\n",
    "gs1 = GridSearchCV(pipe_model1, param_grid1, cv=5, verbose=2)"
   ]
  },
  {
   "cell_type": "code",
   "execution_count": 282,
   "metadata": {
    "collapsed": true
   },
   "outputs": [
    {
     "name": "stdout",
     "output_type": "stream",
     "text": [
      "Fitting 5 folds for each of 12 candidates, totalling 60 fits\n",
      "[CV] classifier__max_features=auto, classifier__n_estimators=200 .....\n"
     ]
    },
    {
     "name": "stderr",
     "output_type": "stream",
     "text": [
      "[Parallel(n_jobs=1)]: Using backend SequentialBackend with 1 concurrent workers.\n"
     ]
    },
    {
     "name": "stdout",
     "output_type": "stream",
     "text": [
      "[CV]  classifier__max_features=auto, classifier__n_estimators=200, total=   7.2s\n",
      "[CV] classifier__max_features=auto, classifier__n_estimators=200 .....\n"
     ]
    },
    {
     "name": "stderr",
     "output_type": "stream",
     "text": [
      "[Parallel(n_jobs=1)]: Done   1 out of   1 | elapsed:    7.1s remaining:    0.0s\n"
     ]
    },
    {
     "name": "stdout",
     "output_type": "stream",
     "text": [
      "[CV]  classifier__max_features=auto, classifier__n_estimators=200, total=   7.4s\n",
      "[CV] classifier__max_features=auto, classifier__n_estimators=200 .....\n",
      "[CV]  classifier__max_features=auto, classifier__n_estimators=200, total=   7.3s\n",
      "[CV] classifier__max_features=auto, classifier__n_estimators=200 .....\n",
      "[CV]  classifier__max_features=auto, classifier__n_estimators=200, total=   7.5s\n",
      "[CV] classifier__max_features=auto, classifier__n_estimators=200 .....\n",
      "[CV]  classifier__max_features=auto, classifier__n_estimators=200, total=   8.3s\n",
      "[CV] classifier__max_features=auto, classifier__n_estimators=250 .....\n",
      "[CV]  classifier__max_features=auto, classifier__n_estimators=250, total=  10.7s\n",
      "[CV] classifier__max_features=auto, classifier__n_estimators=250 .....\n",
      "[CV]  classifier__max_features=auto, classifier__n_estimators=250, total=  10.4s\n",
      "[CV] classifier__max_features=auto, classifier__n_estimators=250 .....\n",
      "[CV]  classifier__max_features=auto, classifier__n_estimators=250, total=   9.9s\n",
      "[CV] classifier__max_features=auto, classifier__n_estimators=250 .....\n",
      "[CV]  classifier__max_features=auto, classifier__n_estimators=250, total=  11.2s\n",
      "[CV] classifier__max_features=auto, classifier__n_estimators=250 .....\n",
      "[CV]  classifier__max_features=auto, classifier__n_estimators=250, total=  11.4s\n",
      "[CV] classifier__max_features=auto, classifier__n_estimators=300 .....\n",
      "[CV]  classifier__max_features=auto, classifier__n_estimators=300, total=  13.1s\n",
      "[CV] classifier__max_features=auto, classifier__n_estimators=300 .....\n",
      "[CV]  classifier__max_features=auto, classifier__n_estimators=300, total=  13.5s\n",
      "[CV] classifier__max_features=auto, classifier__n_estimators=300 .....\n",
      "[CV]  classifier__max_features=auto, classifier__n_estimators=300, total=  13.2s\n",
      "[CV] classifier__max_features=auto, classifier__n_estimators=300 .....\n",
      "[CV]  classifier__max_features=auto, classifier__n_estimators=300, total=  13.3s\n",
      "[CV] classifier__max_features=auto, classifier__n_estimators=300 .....\n",
      "[CV]  classifier__max_features=auto, classifier__n_estimators=300, total=  13.3s\n",
      "[CV] classifier__max_features=auto, classifier__n_estimators=350 .....\n",
      "[CV]  classifier__max_features=auto, classifier__n_estimators=350, total=   8.4s\n",
      "[CV] classifier__max_features=auto, classifier__n_estimators=350 .....\n",
      "[CV]  classifier__max_features=auto, classifier__n_estimators=350, total=   6.5s\n",
      "[CV] classifier__max_features=auto, classifier__n_estimators=350 .....\n",
      "[CV]  classifier__max_features=auto, classifier__n_estimators=350, total=   6.5s\n",
      "[CV] classifier__max_features=auto, classifier__n_estimators=350 .....\n",
      "[CV]  classifier__max_features=auto, classifier__n_estimators=350, total=   6.3s\n",
      "[CV] classifier__max_features=auto, classifier__n_estimators=350 .....\n",
      "[CV]  classifier__max_features=auto, classifier__n_estimators=350, total=   6.0s\n",
      "[CV] classifier__max_features=sqrt, classifier__n_estimators=200 .....\n",
      "[CV]  classifier__max_features=sqrt, classifier__n_estimators=200, total=   3.4s\n",
      "[CV] classifier__max_features=sqrt, classifier__n_estimators=200 .....\n",
      "[CV]  classifier__max_features=sqrt, classifier__n_estimators=200, total=   3.4s\n",
      "[CV] classifier__max_features=sqrt, classifier__n_estimators=200 .....\n",
      "[CV]  classifier__max_features=sqrt, classifier__n_estimators=200, total=   3.4s\n",
      "[CV] classifier__max_features=sqrt, classifier__n_estimators=200 .....\n",
      "[CV]  classifier__max_features=sqrt, classifier__n_estimators=200, total=   3.5s\n",
      "[CV] classifier__max_features=sqrt, classifier__n_estimators=200 .....\n",
      "[CV]  classifier__max_features=sqrt, classifier__n_estimators=200, total=   3.5s\n",
      "[CV] classifier__max_features=sqrt, classifier__n_estimators=250 .....\n",
      "[CV]  classifier__max_features=sqrt, classifier__n_estimators=250, total=   4.3s\n",
      "[CV] classifier__max_features=sqrt, classifier__n_estimators=250 .....\n",
      "[CV]  classifier__max_features=sqrt, classifier__n_estimators=250, total=   4.4s\n",
      "[CV] classifier__max_features=sqrt, classifier__n_estimators=250 .....\n",
      "[CV]  classifier__max_features=sqrt, classifier__n_estimators=250, total=   4.3s\n",
      "[CV] classifier__max_features=sqrt, classifier__n_estimators=250 .....\n",
      "[CV]  classifier__max_features=sqrt, classifier__n_estimators=250, total=   4.3s\n",
      "[CV] classifier__max_features=sqrt, classifier__n_estimators=250 .....\n",
      "[CV]  classifier__max_features=sqrt, classifier__n_estimators=250, total=   4.3s\n",
      "[CV] classifier__max_features=sqrt, classifier__n_estimators=300 .....\n",
      "[CV]  classifier__max_features=sqrt, classifier__n_estimators=300, total=   5.2s\n",
      "[CV] classifier__max_features=sqrt, classifier__n_estimators=300 .....\n",
      "[CV]  classifier__max_features=sqrt, classifier__n_estimators=300, total=   5.3s\n",
      "[CV] classifier__max_features=sqrt, classifier__n_estimators=300 .....\n",
      "[CV]  classifier__max_features=sqrt, classifier__n_estimators=300, total=   5.3s\n",
      "[CV] classifier__max_features=sqrt, classifier__n_estimators=300 .....\n",
      "[CV]  classifier__max_features=sqrt, classifier__n_estimators=300, total=   5.2s\n",
      "[CV] classifier__max_features=sqrt, classifier__n_estimators=300 .....\n",
      "[CV]  classifier__max_features=sqrt, classifier__n_estimators=300, total=   5.3s\n",
      "[CV] classifier__max_features=sqrt, classifier__n_estimators=350 .....\n",
      "[CV]  classifier__max_features=sqrt, classifier__n_estimators=350, total=   6.1s\n",
      "[CV] classifier__max_features=sqrt, classifier__n_estimators=350 .....\n",
      "[CV]  classifier__max_features=sqrt, classifier__n_estimators=350, total=   6.1s\n",
      "[CV] classifier__max_features=sqrt, classifier__n_estimators=350 .....\n",
      "[CV]  classifier__max_features=sqrt, classifier__n_estimators=350, total=   6.1s\n",
      "[CV] classifier__max_features=sqrt, classifier__n_estimators=350 .....\n",
      "[CV]  classifier__max_features=sqrt, classifier__n_estimators=350, total=   6.1s\n",
      "[CV] classifier__max_features=sqrt, classifier__n_estimators=350 .....\n",
      "[CV]  classifier__max_features=sqrt, classifier__n_estimators=350, total=   6.0s\n",
      "[CV] classifier__max_features=log2, classifier__n_estimators=200 .....\n",
      "[CV]  classifier__max_features=log2, classifier__n_estimators=200, total=   3.5s\n",
      "[CV] classifier__max_features=log2, classifier__n_estimators=200 .....\n",
      "[CV]  classifier__max_features=log2, classifier__n_estimators=200, total=   3.7s\n",
      "[CV] classifier__max_features=log2, classifier__n_estimators=200 .....\n",
      "[CV]  classifier__max_features=log2, classifier__n_estimators=200, total=   3.4s\n",
      "[CV] classifier__max_features=log2, classifier__n_estimators=200 .....\n",
      "[CV]  classifier__max_features=log2, classifier__n_estimators=200, total=   3.4s\n",
      "[CV] classifier__max_features=log2, classifier__n_estimators=200 .....\n",
      "[CV]  classifier__max_features=log2, classifier__n_estimators=200, total=   3.4s\n",
      "[CV] classifier__max_features=log2, classifier__n_estimators=250 .....\n",
      "[CV]  classifier__max_features=log2, classifier__n_estimators=250, total=   4.3s\n",
      "[CV] classifier__max_features=log2, classifier__n_estimators=250 .....\n",
      "[CV]  classifier__max_features=log2, classifier__n_estimators=250, total=   4.4s\n",
      "[CV] classifier__max_features=log2, classifier__n_estimators=250 .....\n",
      "[CV]  classifier__max_features=log2, classifier__n_estimators=250, total=   4.5s\n",
      "[CV] classifier__max_features=log2, classifier__n_estimators=250 .....\n",
      "[CV]  classifier__max_features=log2, classifier__n_estimators=250, total=   4.6s\n",
      "[CV] classifier__max_features=log2, classifier__n_estimators=250 .....\n",
      "[CV]  classifier__max_features=log2, classifier__n_estimators=250, total=   4.5s\n",
      "[CV] classifier__max_features=log2, classifier__n_estimators=300 .....\n",
      "[CV]  classifier__max_features=log2, classifier__n_estimators=300, total=   5.4s\n",
      "[CV] classifier__max_features=log2, classifier__n_estimators=300 .....\n",
      "[CV]  classifier__max_features=log2, classifier__n_estimators=300, total=   5.3s\n",
      "[CV] classifier__max_features=log2, classifier__n_estimators=300 .....\n",
      "[CV]  classifier__max_features=log2, classifier__n_estimators=300, total=   5.3s\n",
      "[CV] classifier__max_features=log2, classifier__n_estimators=300 .....\n",
      "[CV]  classifier__max_features=log2, classifier__n_estimators=300, total=   5.3s\n",
      "[CV] classifier__max_features=log2, classifier__n_estimators=300 .....\n",
      "[CV]  classifier__max_features=log2, classifier__n_estimators=300, total=   5.5s\n",
      "[CV] classifier__max_features=log2, classifier__n_estimators=350 .....\n"
     ]
    },
    {
     "name": "stdout",
     "output_type": "stream",
     "text": [
      "[CV]  classifier__max_features=log2, classifier__n_estimators=350, total=   6.2s\n",
      "[CV] classifier__max_features=log2, classifier__n_estimators=350 .....\n",
      "[CV]  classifier__max_features=log2, classifier__n_estimators=350, total=   6.3s\n",
      "[CV] classifier__max_features=log2, classifier__n_estimators=350 .....\n",
      "[CV]  classifier__max_features=log2, classifier__n_estimators=350, total=   5.9s\n",
      "[CV] classifier__max_features=log2, classifier__n_estimators=350 .....\n",
      "[CV]  classifier__max_features=log2, classifier__n_estimators=350, total=   6.1s\n",
      "[CV] classifier__max_features=log2, classifier__n_estimators=350 .....\n",
      "[CV]  classifier__max_features=log2, classifier__n_estimators=350, total=   6.1s\n"
     ]
    },
    {
     "name": "stderr",
     "output_type": "stream",
     "text": [
      "[Parallel(n_jobs=1)]: Done  60 out of  60 | elapsed:  6.4min finished\n"
     ]
    },
    {
     "data": {
      "text/plain": [
       "GridSearchCV(cv=5, error_score='raise-deprecating',\n",
       "             estimator=Pipeline(memory=None,\n",
       "                                steps=[('scaler',\n",
       "                                        StandardScaler(copy=True,\n",
       "                                                       with_mean=True,\n",
       "                                                       with_std=True)),\n",
       "                                       ('classifier',\n",
       "                                        RandomForestClassifier(bootstrap=True,\n",
       "                                                               class_weight=None,\n",
       "                                                               criterion='gini',\n",
       "                                                               max_depth=None,\n",
       "                                                               max_features='auto',\n",
       "                                                               max_leaf_nodes=None,\n",
       "                                                               min_impurity_decrease=0.0,\n",
       "                                                               min_impurity_split=None,\n",
       "                                                               min_...\n",
       "                                                               min_weight_fraction_leaf=0.0,\n",
       "                                                               n_estimators='warn',\n",
       "                                                               n_jobs=None,\n",
       "                                                               oob_score=False,\n",
       "                                                               random_state=None,\n",
       "                                                               verbose=0,\n",
       "                                                               warm_start=False))],\n",
       "                                verbose=False),\n",
       "             iid='warn', n_jobs=None,\n",
       "             param_grid={'classifier__max_features': ['auto', 'sqrt', 'log2'],\n",
       "                         'classifier__n_estimators': [200, 250, 300, 350]},\n",
       "             pre_dispatch='2*n_jobs', refit=True, return_train_score=False,\n",
       "             scoring=None, verbose=2)"
      ]
     },
     "execution_count": 282,
     "metadata": {},
     "output_type": "execute_result"
    }
   ],
   "source": [
    "# Fitiing multiple models to decide the best parameter\n",
    "gs1.fit(X_train, y_train)"
   ]
  },
  {
   "cell_type": "code",
   "execution_count": 283,
   "metadata": {},
   "outputs": [
    {
     "data": {
      "text/plain": [
       "{'classifier__max_features': 'auto', 'classifier__n_estimators': 200}"
      ]
     },
     "execution_count": 283,
     "metadata": {},
     "output_type": "execute_result"
    }
   ],
   "source": [
    "# best grid search parameters\n",
    "gs1.best_params_"
   ]
  },
  {
   "cell_type": "code",
   "execution_count": null,
   "metadata": {
    "scrolled": true
   },
   "outputs": [],
   "source": []
  },
  {
   "cell_type": "code",
   "execution_count": null,
   "metadata": {},
   "outputs": [],
   "source": []
  },
  {
   "cell_type": "markdown",
   "metadata": {},
   "source": [
    "### Gradient Boosting"
   ]
  },
  {
   "cell_type": "code",
   "execution_count": null,
   "metadata": {},
   "outputs": [],
   "source": [
    "#pip install xgboost"
   ]
  },
  {
   "cell_type": "code",
   "execution_count": 185,
   "metadata": {},
   "outputs": [],
   "source": [
    "import xgboost as xgb\n",
    "from xgboost import XGBClassifier\n",
    "from sklearn.metrics import accuracy_score\n",
    "from sklearn.model_selection import cross_val_score\n",
    "from sklearn.metrics import classification_report, confusion_matrix"
   ]
  },
  {
   "cell_type": "code",
   "execution_count": 297,
   "metadata": {},
   "outputs": [
    {
     "name": "stdout",
     "output_type": "stream",
     "text": [
      "\n",
      "Target on test data [1 1 1 ... 3 2 1]\n",
      "=== Confusion Matrix ===\n",
      "[[   2    1    0    2    0    0]\n",
      " [   1 2058  102  128    9    1]\n",
      " [   1  231  203  102    6    0]\n",
      " [   0  213   61  484   38    4]\n",
      " [   0   38    9   66   90    6]\n",
      " [   0   15    1   16    7   24]]\n",
      "\n",
      "\n",
      "=== Classification Report ===\n",
      "              precision    recall  f1-score   support\n",
      "\n",
      "           0       0.50      0.40      0.44         5\n",
      "           1       0.81      0.90      0.85      2299\n",
      "           2       0.54      0.37      0.44       543\n",
      "           3       0.61      0.60      0.61       800\n",
      "           4       0.60      0.43      0.50       209\n",
      "           5       0.69      0.38      0.49        63\n",
      "\n",
      "    accuracy                           0.73      3919\n",
      "   macro avg       0.62      0.51      0.56      3919\n",
      "weighted avg       0.71      0.73      0.72      3919\n",
      "\n",
      "\n",
      "\n"
     ]
    }
   ],
   "source": [
    "model = XGBClassifier(objective='binary:logistic',max_depth = 9, n_estimators = 200, booster = 'gbtree')\n",
    " \n",
    "# fit the model with the training data\n",
    "model.fit(X_train,y_train)\n",
    "\n",
    "# predict the target on the test dataset\n",
    "predict_test = model.predict(X_test)\n",
    "print('\\nTarget on test data',predict_test) \n",
    "\n",
    "print(\"=== Confusion Matrix ===\")\n",
    "print(confusion_matrix(y_test, predict_test))\n",
    "print('\\n')\n",
    "\n",
    "print(\"=== Classification Report ===\")\n",
    "print(classification_report(y_test, predict_test))\n",
    "print('\\n')\n"
   ]
  },
  {
   "cell_type": "code",
   "execution_count": 293,
   "metadata": {},
   "outputs": [],
   "source": [
    "###### Grid search for the best parameters ######\n",
    "\n",
    "pipe_model2 = Pipeline([('scaler', MinMaxScaler()),\n",
    "                  ('clf', XGBClassifier())\n",
    "                 ])\n",
    "\n",
    "param_grid2 = {'clf__objective':['binary:logistic'],\n",
    "              'clf__n_estimators': [150,200,250,300],\n",
    "              'clf__max_depth': list(range(10, 12)),\n",
    "              'clf__booster': ['gbtree']\n",
    "             }\n",
    "\n",
    "gs2 = GridSearchCV(pipe_model2, param_grid2, cv=5, verbose=2)"
   ]
  },
  {
   "cell_type": "code",
   "execution_count": 294,
   "metadata": {
    "scrolled": true
   },
   "outputs": [
    {
     "name": "stdout",
     "output_type": "stream",
     "text": [
      "Fitting 5 folds for each of 8 candidates, totalling 40 fits\n",
      "[CV] clf__booster=gbtree, clf__max_depth=10, clf__n_estimators=150, clf__objective=binary:logistic \n"
     ]
    },
    {
     "name": "stderr",
     "output_type": "stream",
     "text": [
      "[Parallel(n_jobs=1)]: Using backend SequentialBackend with 1 concurrent workers.\n"
     ]
    },
    {
     "name": "stdout",
     "output_type": "stream",
     "text": [
      "[CV]  clf__booster=gbtree, clf__max_depth=10, clf__n_estimators=150, clf__objective=binary:logistic, total=   4.8s\n",
      "[CV] clf__booster=gbtree, clf__max_depth=10, clf__n_estimators=150, clf__objective=binary:logistic \n"
     ]
    },
    {
     "name": "stderr",
     "output_type": "stream",
     "text": [
      "[Parallel(n_jobs=1)]: Done   1 out of   1 | elapsed:    4.7s remaining:    0.0s\n"
     ]
    },
    {
     "name": "stdout",
     "output_type": "stream",
     "text": [
      "[CV]  clf__booster=gbtree, clf__max_depth=10, clf__n_estimators=150, clf__objective=binary:logistic, total=   6.0s\n",
      "[CV] clf__booster=gbtree, clf__max_depth=10, clf__n_estimators=150, clf__objective=binary:logistic \n",
      "[CV]  clf__booster=gbtree, clf__max_depth=10, clf__n_estimators=150, clf__objective=binary:logistic, total=   6.1s\n",
      "[CV] clf__booster=gbtree, clf__max_depth=10, clf__n_estimators=150, clf__objective=binary:logistic \n",
      "[CV]  clf__booster=gbtree, clf__max_depth=10, clf__n_estimators=150, clf__objective=binary:logistic, total=   6.2s\n",
      "[CV] clf__booster=gbtree, clf__max_depth=10, clf__n_estimators=150, clf__objective=binary:logistic \n",
      "[CV]  clf__booster=gbtree, clf__max_depth=10, clf__n_estimators=150, clf__objective=binary:logistic, total=   6.6s\n",
      "[CV] clf__booster=gbtree, clf__max_depth=10, clf__n_estimators=200, clf__objective=binary:logistic \n",
      "[CV]  clf__booster=gbtree, clf__max_depth=10, clf__n_estimators=200, clf__objective=binary:logistic, total=   8.2s\n",
      "[CV] clf__booster=gbtree, clf__max_depth=10, clf__n_estimators=200, clf__objective=binary:logistic \n",
      "[CV]  clf__booster=gbtree, clf__max_depth=10, clf__n_estimators=200, clf__objective=binary:logistic, total=   8.5s\n",
      "[CV] clf__booster=gbtree, clf__max_depth=10, clf__n_estimators=200, clf__objective=binary:logistic \n",
      "[CV]  clf__booster=gbtree, clf__max_depth=10, clf__n_estimators=200, clf__objective=binary:logistic, total=   8.0s\n",
      "[CV] clf__booster=gbtree, clf__max_depth=10, clf__n_estimators=200, clf__objective=binary:logistic \n",
      "[CV]  clf__booster=gbtree, clf__max_depth=10, clf__n_estimators=200, clf__objective=binary:logistic, total=   7.9s\n",
      "[CV] clf__booster=gbtree, clf__max_depth=10, clf__n_estimators=200, clf__objective=binary:logistic \n",
      "[CV]  clf__booster=gbtree, clf__max_depth=10, clf__n_estimators=200, clf__objective=binary:logistic, total=   7.9s\n",
      "[CV] clf__booster=gbtree, clf__max_depth=10, clf__n_estimators=250, clf__objective=binary:logistic \n",
      "[CV]  clf__booster=gbtree, clf__max_depth=10, clf__n_estimators=250, clf__objective=binary:logistic, total=  10.7s\n",
      "[CV] clf__booster=gbtree, clf__max_depth=10, clf__n_estimators=250, clf__objective=binary:logistic \n",
      "[CV]  clf__booster=gbtree, clf__max_depth=10, clf__n_estimators=250, clf__objective=binary:logistic, total=  10.4s\n",
      "[CV] clf__booster=gbtree, clf__max_depth=10, clf__n_estimators=250, clf__objective=binary:logistic \n",
      "[CV]  clf__booster=gbtree, clf__max_depth=10, clf__n_estimators=250, clf__objective=binary:logistic, total=  10.1s\n",
      "[CV] clf__booster=gbtree, clf__max_depth=10, clf__n_estimators=250, clf__objective=binary:logistic \n",
      "[CV]  clf__booster=gbtree, clf__max_depth=10, clf__n_estimators=250, clf__objective=binary:logistic, total=   9.8s\n",
      "[CV] clf__booster=gbtree, clf__max_depth=10, clf__n_estimators=250, clf__objective=binary:logistic \n",
      "[CV]  clf__booster=gbtree, clf__max_depth=10, clf__n_estimators=250, clf__objective=binary:logistic, total=   9.5s\n",
      "[CV] clf__booster=gbtree, clf__max_depth=10, clf__n_estimators=300, clf__objective=binary:logistic \n",
      "[CV]  clf__booster=gbtree, clf__max_depth=10, clf__n_estimators=300, clf__objective=binary:logistic, total=  11.3s\n",
      "[CV] clf__booster=gbtree, clf__max_depth=10, clf__n_estimators=300, clf__objective=binary:logistic \n",
      "[CV]  clf__booster=gbtree, clf__max_depth=10, clf__n_estimators=300, clf__objective=binary:logistic, total=  11.2s\n",
      "[CV] clf__booster=gbtree, clf__max_depth=10, clf__n_estimators=300, clf__objective=binary:logistic \n",
      "[CV]  clf__booster=gbtree, clf__max_depth=10, clf__n_estimators=300, clf__objective=binary:logistic, total=  11.4s\n",
      "[CV] clf__booster=gbtree, clf__max_depth=10, clf__n_estimators=300, clf__objective=binary:logistic \n",
      "[CV]  clf__booster=gbtree, clf__max_depth=10, clf__n_estimators=300, clf__objective=binary:logistic, total=  11.4s\n",
      "[CV] clf__booster=gbtree, clf__max_depth=10, clf__n_estimators=300, clf__objective=binary:logistic \n",
      "[CV]  clf__booster=gbtree, clf__max_depth=10, clf__n_estimators=300, clf__objective=binary:logistic, total=  11.2s\n",
      "[CV] clf__booster=gbtree, clf__max_depth=11, clf__n_estimators=150, clf__objective=binary:logistic \n",
      "[CV]  clf__booster=gbtree, clf__max_depth=11, clf__n_estimators=150, clf__objective=binary:logistic, total=   6.4s\n",
      "[CV] clf__booster=gbtree, clf__max_depth=11, clf__n_estimators=150, clf__objective=binary:logistic \n",
      "[CV]  clf__booster=gbtree, clf__max_depth=11, clf__n_estimators=150, clf__objective=binary:logistic, total=   6.3s\n",
      "[CV] clf__booster=gbtree, clf__max_depth=11, clf__n_estimators=150, clf__objective=binary:logistic \n",
      "[CV]  clf__booster=gbtree, clf__max_depth=11, clf__n_estimators=150, clf__objective=binary:logistic, total=   6.5s\n",
      "[CV] clf__booster=gbtree, clf__max_depth=11, clf__n_estimators=150, clf__objective=binary:logistic \n",
      "[CV]  clf__booster=gbtree, clf__max_depth=11, clf__n_estimators=150, clf__objective=binary:logistic, total=   6.4s\n",
      "[CV] clf__booster=gbtree, clf__max_depth=11, clf__n_estimators=150, clf__objective=binary:logistic \n",
      "[CV]  clf__booster=gbtree, clf__max_depth=11, clf__n_estimators=150, clf__objective=binary:logistic, total=   6.3s\n",
      "[CV] clf__booster=gbtree, clf__max_depth=11, clf__n_estimators=200, clf__objective=binary:logistic \n",
      "[CV]  clf__booster=gbtree, clf__max_depth=11, clf__n_estimators=200, clf__objective=binary:logistic, total=   8.5s\n",
      "[CV] clf__booster=gbtree, clf__max_depth=11, clf__n_estimators=200, clf__objective=binary:logistic \n",
      "[CV]  clf__booster=gbtree, clf__max_depth=11, clf__n_estimators=200, clf__objective=binary:logistic, total=   8.6s\n",
      "[CV] clf__booster=gbtree, clf__max_depth=11, clf__n_estimators=200, clf__objective=binary:logistic \n",
      "[CV]  clf__booster=gbtree, clf__max_depth=11, clf__n_estimators=200, clf__objective=binary:logistic, total=   8.6s\n",
      "[CV] clf__booster=gbtree, clf__max_depth=11, clf__n_estimators=200, clf__objective=binary:logistic \n",
      "[CV]  clf__booster=gbtree, clf__max_depth=11, clf__n_estimators=200, clf__objective=binary:logistic, total=   8.8s\n",
      "[CV] clf__booster=gbtree, clf__max_depth=11, clf__n_estimators=200, clf__objective=binary:logistic \n",
      "[CV]  clf__booster=gbtree, clf__max_depth=11, clf__n_estimators=200, clf__objective=binary:logistic, total=   8.8s\n",
      "[CV] clf__booster=gbtree, clf__max_depth=11, clf__n_estimators=250, clf__objective=binary:logistic \n",
      "[CV]  clf__booster=gbtree, clf__max_depth=11, clf__n_estimators=250, clf__objective=binary:logistic, total=  11.2s\n",
      "[CV] clf__booster=gbtree, clf__max_depth=11, clf__n_estimators=250, clf__objective=binary:logistic \n",
      "[CV]  clf__booster=gbtree, clf__max_depth=11, clf__n_estimators=250, clf__objective=binary:logistic, total=  11.9s\n",
      "[CV] clf__booster=gbtree, clf__max_depth=11, clf__n_estimators=250, clf__objective=binary:logistic \n",
      "[CV]  clf__booster=gbtree, clf__max_depth=11, clf__n_estimators=250, clf__objective=binary:logistic, total=  11.6s\n",
      "[CV] clf__booster=gbtree, clf__max_depth=11, clf__n_estimators=250, clf__objective=binary:logistic \n",
      "[CV]  clf__booster=gbtree, clf__max_depth=11, clf__n_estimators=250, clf__objective=binary:logistic, total=  11.5s\n",
      "[CV] clf__booster=gbtree, clf__max_depth=11, clf__n_estimators=250, clf__objective=binary:logistic \n",
      "[CV]  clf__booster=gbtree, clf__max_depth=11, clf__n_estimators=250, clf__objective=binary:logistic, total=  11.4s\n",
      "[CV] clf__booster=gbtree, clf__max_depth=11, clf__n_estimators=300, clf__objective=binary:logistic \n",
      "[CV]  clf__booster=gbtree, clf__max_depth=11, clf__n_estimators=300, clf__objective=binary:logistic, total=  14.1s\n",
      "[CV] clf__booster=gbtree, clf__max_depth=11, clf__n_estimators=300, clf__objective=binary:logistic \n",
      "[CV]  clf__booster=gbtree, clf__max_depth=11, clf__n_estimators=300, clf__objective=binary:logistic, total=  13.9s\n",
      "[CV] clf__booster=gbtree, clf__max_depth=11, clf__n_estimators=300, clf__objective=binary:logistic \n",
      "[CV]  clf__booster=gbtree, clf__max_depth=11, clf__n_estimators=300, clf__objective=binary:logistic, total=  14.5s\n",
      "[CV] clf__booster=gbtree, clf__max_depth=11, clf__n_estimators=300, clf__objective=binary:logistic \n",
      "[CV]  clf__booster=gbtree, clf__max_depth=11, clf__n_estimators=300, clf__objective=binary:logistic, total=  13.9s\n",
      "[CV] clf__booster=gbtree, clf__max_depth=11, clf__n_estimators=300, clf__objective=binary:logistic \n",
      "[CV]  clf__booster=gbtree, clf__max_depth=11, clf__n_estimators=300, clf__objective=binary:logistic, total=  14.1s\n"
     ]
    },
    {
     "name": "stderr",
     "output_type": "stream",
     "text": [
      "[Parallel(n_jobs=1)]: Done  40 out of  40 | elapsed:  6.3min finished\n"
     ]
    },
    {
     "data": {
      "text/plain": [
       "GridSearchCV(cv=5, error_score='raise-deprecating',\n",
       "             estimator=Pipeline(memory=None,\n",
       "                                steps=[('scaler',\n",
       "                                        MinMaxScaler(copy=True,\n",
       "                                                     feature_range=(0, 1))),\n",
       "                                       ('clf',\n",
       "                                        XGBClassifier(base_score=None,\n",
       "                                                      booster=None,\n",
       "                                                      colsample_bylevel=None,\n",
       "                                                      colsample_bynode=None,\n",
       "                                                      colsample_bytree=None,\n",
       "                                                      gamma=None, gpu_id=None,\n",
       "                                                      importance_type='gain',\n",
       "                                                      interaction_constraints=None,\n",
       "                                                      learning_rate=N...\n",
       "                                                      scale_pos_weight=None,\n",
       "                                                      subsample=None,\n",
       "                                                      tree_method=None,\n",
       "                                                      validate_parameters=False,\n",
       "                                                      verbosity=None))],\n",
       "                                verbose=False),\n",
       "             iid='warn', n_jobs=None,\n",
       "             param_grid={'clf__booster': ['gbtree'], 'clf__max_depth': [10, 11],\n",
       "                         'clf__n_estimators': [150, 200, 250, 300],\n",
       "                         'clf__objective': ['binary:logistic']},\n",
       "             pre_dispatch='2*n_jobs', refit=True, return_train_score=False,\n",
       "             scoring=None, verbose=2)"
      ]
     },
     "execution_count": 294,
     "metadata": {},
     "output_type": "execute_result"
    }
   ],
   "source": [
    "gs2.fit(X_train, y_train)"
   ]
  },
  {
   "cell_type": "code",
   "execution_count": 295,
   "metadata": {},
   "outputs": [
    {
     "data": {
      "text/plain": [
       "{'clf__booster': 'gbtree',\n",
       " 'clf__max_depth': 11,\n",
       " 'clf__n_estimators': 300,\n",
       " 'clf__objective': 'binary:logistic'}"
      ]
     },
     "execution_count": 295,
     "metadata": {},
     "output_type": "execute_result"
    }
   ],
   "source": [
    "gs2.best_params_"
   ]
  },
  {
   "cell_type": "code",
   "execution_count": 187,
   "metadata": {
    "collapsed": true
   },
   "outputs": [
    {
     "name": "stdout",
     "output_type": "stream",
     "text": [
      "CV accuracy: 0.712\n"
     ]
    }
   ],
   "source": [
    "print(\"CV accuracy:\", np.round(accuracy_test, 3))"
   ]
  },
  {
   "cell_type": "markdown",
   "metadata": {},
   "source": [
    "### Support Vector Machine"
   ]
  },
  {
   "cell_type": "code",
   "execution_count": 298,
   "metadata": {},
   "outputs": [
    {
     "name": "stderr",
     "output_type": "stream",
     "text": [
      "C:\\Anaconda\\lib\\site-packages\\sklearn\\svm\\base.py:193: FutureWarning: The default value of gamma will change from 'auto' to 'scale' in version 0.22 to account better for unscaled features. Set gamma explicitly to 'auto' or 'scale' to avoid this warning.\n",
      "  \"avoid this warning.\", FutureWarning)\n"
     ]
    },
    {
     "name": "stdout",
     "output_type": "stream",
     "text": [
      "Accuracy: 0.6320489920898188\n",
      "=== Confusion Matrix ===\n",
      "[[   0    5    0    0    0    0]\n",
      " [   1 2212   47   37    1    1]\n",
      " [   0  424   98   19    2    0]\n",
      " [   0  647   12  138    1    2]\n",
      " [   0  182    0    3   24    0]\n",
      " [   0   56    1    1    0    5]]\n",
      "\n",
      "\n",
      "=== Classification Report ===\n",
      "              precision    recall  f1-score   support\n",
      "\n",
      "           0       0.00      0.00      0.00         5\n",
      "           1       0.63      0.96      0.76      2299\n",
      "           2       0.62      0.18      0.28       543\n",
      "           3       0.70      0.17      0.28       800\n",
      "           4       0.86      0.11      0.20       209\n",
      "           5       0.62      0.08      0.14        63\n",
      "\n",
      "    accuracy                           0.63      3919\n",
      "   macro avg       0.57      0.25      0.28      3919\n",
      "weighted avg       0.65      0.63      0.55      3919\n",
      "\n",
      "\n",
      "\n"
     ]
    }
   ],
   "source": [
    "from sklearn import metrics\n",
    "from sklearn.svm import SVC\n",
    "\n",
    "model4 = SVC(kernel='rbf', C = 100, ga)\n",
    "model4.fit(X_train1, y_train)\n",
    "\n",
    "y_pred = model4.predict(X_test1)\n",
    "print(\"Accuracy:\",metrics.accuracy_score(y_test, y_pred))\n",
    "\n",
    "print(\"=== Confusion Matrix ===\")\n",
    "print(confusion_matrix(y_test, y_pred))\n",
    "print('\\n')\n",
    "\n",
    "print(\"=== Classification Report ===\")\n",
    "print(classification_report(y_test, y_pred))\n",
    "print('\\n')"
   ]
  },
  {
   "cell_type": "code",
   "execution_count": 299,
   "metadata": {},
   "outputs": [],
   "source": [
    "###### Grid search for the best parameters ######\n",
    "\n",
    "pipe_model3 = Pipeline([('scaler', StandardScaler()),\n",
    "                  ('clf', SVC())\n",
    "                 ])\n",
    "\n",
    "param_grid3 = {'clf__kernel':['poly', 'rbf'],\n",
    "              'clf__C': [100, 150, 200, 250, 300],\n",
    "               'clf__gamma': ['scale']\n",
    "              }\n",
    "\n",
    "gs3 = GridSearchCV(pipe_model3, param_grid3, cv=5, verbose=2)"
   ]
  },
  {
   "cell_type": "code",
   "execution_count": null,
   "metadata": {},
   "outputs": [
    {
     "name": "stdout",
     "output_type": "stream",
     "text": [
      "Fitting 5 folds for each of 10 candidates, totalling 50 fits\n",
      "[CV] clf__C=100, clf__gamma=scale, clf__kernel=poly ..................\n"
     ]
    },
    {
     "name": "stderr",
     "output_type": "stream",
     "text": [
      "[Parallel(n_jobs=1)]: Using backend SequentialBackend with 1 concurrent workers.\n"
     ]
    }
   ],
   "source": [
    "# Fitting multiple models to decide the best parameter\n",
    "gs3.fit(X_train, y_train)"
   ]
  },
  {
   "cell_type": "code",
   "execution_count": 669,
   "metadata": {
    "scrolled": true
   },
   "outputs": [
    {
     "data": {
      "text/plain": [
       "{'clf__C': 100, 'clf__kernel': 'rbf'}"
      ]
     },
     "execution_count": 669,
     "metadata": {},
     "output_type": "execute_result"
    }
   ],
   "source": [
    "# best grid search parameters\n",
    "gs3.best_params_"
   ]
  },
  {
   "cell_type": "markdown",
   "metadata": {},
   "source": [
    "## Conclusion"
   ]
  },
  {
   "cell_type": "markdown",
   "metadata": {},
   "source": [
    "### Models implemented and their accuracies"
   ]
  },
  {
   "cell_type": "markdown",
   "metadata": {},
   "source": [
    "#### Logistic model(Baseline model)"
   ]
  },
  {
   "cell_type": "markdown",
   "metadata": {},
   "source": [
    "1.The test accuracy is 62%.\n",
    "\n",
    "2.Here we have an imbalanced dataset and the classification model like logistic is simple and doesn't work that well with such a dataset.\n",
    "\n",
    "3.Hence we move on to other sophisticated classification models like Decision trees and SVM which work best in such scenarios.\n"
   ]
  },
  {
   "cell_type": "markdown",
   "metadata": {},
   "source": [
    "#### Random forest classifier - Accurcy high"
   ]
  },
  {
   "cell_type": "markdown",
   "metadata": {},
   "source": [
    "1.We get test accuracy of 72%\n",
    "\n",
    "2.We can say that Random forest classifier works the best as we have a large amount of categories(In city variable)\n",
    "\n",
    "3.In general, Decision tress tend to be good at creating a recommendation system. It is good at working with categorical variables."
   ]
  },
  {
   "cell_type": "markdown",
   "metadata": {},
   "source": [
    "#### Gradient Boosting - Accuracy is highest"
   ]
  },
  {
   "cell_type": "markdown",
   "metadata": {},
   "source": [
    "1.Gives a test accuracy of 73% maximum.\n",
    "\n",
    "2.This was expected from this model is it is an improved version of Random forest classifier.\n",
    "\n",
    "3.For our dataset I would use this model for creating the machine learning model."
   ]
  },
  {
   "cell_type": "markdown",
   "metadata": {},
   "source": [
    "#### Support vector machine - Accuracy is low"
   ]
  },
  {
   "cell_type": "markdown",
   "metadata": {},
   "source": [
    "1.Gives test accuracy of 63.5%\n",
    "\n",
    "2.This clearly isn't doing better than the Decision tree algorithms\n",
    "\n",
    "Thus, clearly Gradient Boosting or Random forest classifier is the best choice \n",
    "for building the recommendation system\n"
   ]
  }
 ],
 "metadata": {
  "kernelspec": {
   "display_name": "Python 3",
   "language": "python",
   "name": "python3"
  },
  "language_info": {
   "codemirror_mode": {
    "name": "ipython",
    "version": 3
   },
   "file_extension": ".py",
   "mimetype": "text/x-python",
   "name": "python",
   "nbconvert_exporter": "python",
   "pygments_lexer": "ipython3",
   "version": "3.7.6"
  },
  "toc": {
   "base_numbering": 1,
   "nav_menu": {},
   "number_sections": true,
   "sideBar": true,
   "skip_h1_title": true,
   "title_cell": "Table of Contents",
   "title_sidebar": "Contents",
   "toc_cell": true,
   "toc_position": {
    "height": "394.67px",
    "left": "918px",
    "top": "111.14px",
    "width": "256px"
   },
   "toc_section_display": true,
   "toc_window_display": true
  }
 },
 "nbformat": 4,
 "nbformat_minor": 2
}
